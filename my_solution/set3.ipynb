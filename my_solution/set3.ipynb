{
 "cells": [
  {
   "cell_type": "code",
   "execution_count": 5,
   "id": "f53da92a",
   "metadata": {},
   "outputs": [],
   "source": [
    "import pandas as pd\n",
    "import numpy as np\n",
    "\n",
    "from sklearn.preprocessing import MinMaxScaler\n",
    "from sklearn.model_selection import train_test_split\n",
    "from sklearn.neighbors import KNeighborsRegressor\n",
    "from sklearn.metrics import mean_squared_error"
   ]
  },
  {
   "cell_type": "code",
   "execution_count": 3,
   "id": "b8ad5197",
   "metadata": {},
   "outputs": [
    {
     "data": {
      "text/html": [
       "<div>\n",
       "<style scoped>\n",
       "    .dataframe tbody tr th:only-of-type {\n",
       "        vertical-align: middle;\n",
       "    }\n",
       "\n",
       "    .dataframe tbody tr th {\n",
       "        vertical-align: top;\n",
       "    }\n",
       "\n",
       "    .dataframe thead th {\n",
       "        text-align: right;\n",
       "    }\n",
       "</style>\n",
       "<table border=\"1\" class=\"dataframe\">\n",
       "  <thead>\n",
       "    <tr style=\"text-align: right;\">\n",
       "      <th></th>\n",
       "      <th>screen_size</th>\n",
       "      <th>ROM</th>\n",
       "      <th>RAM</th>\n",
       "      <th>num_rear_camera</th>\n",
       "      <th>num_front_camera</th>\n",
       "      <th>battery_capacity</th>\n",
       "      <th>ratings</th>\n",
       "      <th>num_of_ratings</th>\n",
       "      <th>sales_price</th>\n",
       "      <th>discount_percent</th>\n",
       "      <th>sales</th>\n",
       "    </tr>\n",
       "  </thead>\n",
       "  <tbody>\n",
       "    <tr>\n",
       "      <th>0</th>\n",
       "      <td>Very Small</td>\n",
       "      <td>64</td>\n",
       "      <td>2</td>\n",
       "      <td>1</td>\n",
       "      <td>1</td>\n",
       "      <td>1800</td>\n",
       "      <td>4.5</td>\n",
       "      <td>38645</td>\n",
       "      <td>32999</td>\n",
       "      <td>0.17</td>\n",
       "      <td>127.52</td>\n",
       "    </tr>\n",
       "    <tr>\n",
       "      <th>1</th>\n",
       "      <td>Small</td>\n",
       "      <td>64</td>\n",
       "      <td>4</td>\n",
       "      <td>2</td>\n",
       "      <td>1</td>\n",
       "      <td>2815</td>\n",
       "      <td>4.5</td>\n",
       "      <td>244</td>\n",
       "      <td>57149</td>\n",
       "      <td>0.04</td>\n",
       "      <td>1.39</td>\n",
       "    </tr>\n",
       "    <tr>\n",
       "      <th>2</th>\n",
       "      <td>Very Small</td>\n",
       "      <td>64</td>\n",
       "      <td>2</td>\n",
       "      <td>1</td>\n",
       "      <td>1</td>\n",
       "      <td>1800</td>\n",
       "      <td>4.5</td>\n",
       "      <td>38645</td>\n",
       "      <td>32999</td>\n",
       "      <td>0.17</td>\n",
       "      <td>127.52</td>\n",
       "    </tr>\n",
       "    <tr>\n",
       "      <th>3</th>\n",
       "      <td>Medium</td>\n",
       "      <td>64</td>\n",
       "      <td>3</td>\n",
       "      <td>1</td>\n",
       "      <td>1</td>\n",
       "      <td>2942</td>\n",
       "      <td>4.6</td>\n",
       "      <td>5366</td>\n",
       "      <td>42999</td>\n",
       "      <td>0.10</td>\n",
       "      <td>23.07</td>\n",
       "    </tr>\n",
       "    <tr>\n",
       "      <th>4</th>\n",
       "      <td>Medium</td>\n",
       "      <td>128</td>\n",
       "      <td>4</td>\n",
       "      <td>2</td>\n",
       "      <td>1</td>\n",
       "      <td>2815</td>\n",
       "      <td>4.6</td>\n",
       "      <td>745</td>\n",
       "      <td>69149</td>\n",
       "      <td>0.02</td>\n",
       "      <td>5.15</td>\n",
       "    </tr>\n",
       "  </tbody>\n",
       "</table>\n",
       "</div>"
      ],
      "text/plain": [
       "  screen_size  ROM  RAM  num_rear_camera  num_front_camera  battery_capacity  \\\n",
       "0  Very Small   64    2                1                 1              1800   \n",
       "1       Small   64    4                2                 1              2815   \n",
       "2  Very Small   64    2                1                 1              1800   \n",
       "3      Medium   64    3                1                 1              2942   \n",
       "4      Medium  128    4                2                 1              2815   \n",
       "\n",
       "   ratings  num_of_ratings  sales_price  discount_percent   sales  \n",
       "0      4.5           38645        32999              0.17  127.52  \n",
       "1      4.5             244        57149              0.04    1.39  \n",
       "2      4.5           38645        32999              0.17  127.52  \n",
       "3      4.6            5366        42999              0.10   23.07  \n",
       "4      4.6             745        69149              0.02    5.15  "
      ]
     },
     "execution_count": 3,
     "metadata": {},
     "output_type": "execute_result"
    }
   ],
   "source": [
    "df = pd.read_csv(\"mobiles.csv\")\n",
    "df.head()"
   ]
  },
  {
   "cell_type": "markdown",
   "id": "83fb795c",
   "metadata": {},
   "source": [
    "# Q1 \n",
    "이상치를 뽑아서 성능지표를 계산하고 평균을 구하라."
   ]
  },
  {
   "cell_type": "code",
   "execution_count": 7,
   "id": "93b566bd",
   "metadata": {},
   "outputs": [
    {
     "data": {
      "text/plain": [
       "58.39958785566842"
      ]
     },
     "execution_count": 7,
     "metadata": {},
     "output_type": "execute_result"
    }
   ],
   "source": [
    "df1 = df.copy()\n",
    "df1[\"sales\"].std()"
   ]
  },
  {
   "cell_type": "markdown",
   "id": "fa4d6770",
   "metadata": {},
   "source": [
    "## <span style = \"color:red\"> 이상치 계산할때 표준편차*2 + 평균을 넘는것을 착가하지 마라 !!!! </span>"
   ]
  },
  {
   "cell_type": "code",
   "execution_count": 84,
   "id": "47a9e9cb",
   "metadata": {},
   "outputs": [
    {
     "data": {
      "text/plain": [
       "(16, 11)"
      ]
     },
     "execution_count": 84,
     "metadata": {},
     "output_type": "execute_result"
    }
   ],
   "source": [
    "df11 = df1.loc[df1[\"sales\"] >  (df1[\"sales\"].mean() + df1[\"sales\"].std()*2), :]\n",
    "df11.shape"
   ]
  },
  {
   "cell_type": "code",
   "execution_count": 85,
   "id": "48f7fbd0",
   "metadata": {},
   "outputs": [
    {
     "name": "stderr",
     "output_type": "stream",
     "text": [
      "C:\\Users\\younl\\AppData\\Local\\Temp/ipykernel_21368/291321255.py:1: SettingWithCopyWarning: \n",
      "A value is trying to be set on a copy of a slice from a DataFrame.\n",
      "Try using .loc[row_indexer,col_indexer] = value instead\n",
      "\n",
      "See the caveats in the documentation: https://pandas.pydata.org/pandas-docs/stable/user_guide/indexing.html#returning-a-view-versus-a-copy\n",
      "  df11[\"성능지표\"] = df11[\"ROM\"]/32 + df11[\"RAM\"]/2 + df11[\"num_rear_camera\"] + df11[\"num_front_camera\"] + df11[\"battery_capacity\"]/1000\n"
     ]
    },
    {
     "data": {
      "text/html": [
       "<div>\n",
       "<style scoped>\n",
       "    .dataframe tbody tr th:only-of-type {\n",
       "        vertical-align: middle;\n",
       "    }\n",
       "\n",
       "    .dataframe tbody tr th {\n",
       "        vertical-align: top;\n",
       "    }\n",
       "\n",
       "    .dataframe thead th {\n",
       "        text-align: right;\n",
       "    }\n",
       "</style>\n",
       "<table border=\"1\" class=\"dataframe\">\n",
       "  <thead>\n",
       "    <tr style=\"text-align: right;\">\n",
       "      <th></th>\n",
       "      <th>screen_size</th>\n",
       "      <th>ROM</th>\n",
       "      <th>RAM</th>\n",
       "      <th>num_rear_camera</th>\n",
       "      <th>num_front_camera</th>\n",
       "      <th>battery_capacity</th>\n",
       "      <th>ratings</th>\n",
       "      <th>num_of_ratings</th>\n",
       "      <th>sales_price</th>\n",
       "      <th>discount_percent</th>\n",
       "      <th>sales</th>\n",
       "      <th>성능지표</th>\n",
       "    </tr>\n",
       "  </thead>\n",
       "  <tbody>\n",
       "    <tr>\n",
       "      <th>98</th>\n",
       "      <td>Medium</td>\n",
       "      <td>128</td>\n",
       "      <td>6</td>\n",
       "      <td>2</td>\n",
       "      <td>1</td>\n",
       "      <td>4000</td>\n",
       "      <td>4.6</td>\n",
       "      <td>122001</td>\n",
       "      <td>18999</td>\n",
       "      <td>0.09</td>\n",
       "      <td>231.79</td>\n",
       "      <td>14.0</td>\n",
       "    </tr>\n",
       "    <tr>\n",
       "      <th>110</th>\n",
       "      <td>Large</td>\n",
       "      <td>128</td>\n",
       "      <td>6</td>\n",
       "      <td>4</td>\n",
       "      <td>2</td>\n",
       "      <td>4500</td>\n",
       "      <td>4.5</td>\n",
       "      <td>267028</td>\n",
       "      <td>15999</td>\n",
       "      <td>0.20</td>\n",
       "      <td>427.22</td>\n",
       "      <td>17.5</td>\n",
       "    </tr>\n",
       "    <tr>\n",
       "      <th>158</th>\n",
       "      <td>Large</td>\n",
       "      <td>32</td>\n",
       "      <td>2</td>\n",
       "      <td>2</td>\n",
       "      <td>1</td>\n",
       "      <td>5000</td>\n",
       "      <td>4.4</td>\n",
       "      <td>223672</td>\n",
       "      <td>7499</td>\n",
       "      <td>0.16</td>\n",
       "      <td>167.73</td>\n",
       "      <td>10.0</td>\n",
       "    </tr>\n",
       "    <tr>\n",
       "      <th>159</th>\n",
       "      <td>Large</td>\n",
       "      <td>32</td>\n",
       "      <td>2</td>\n",
       "      <td>2</td>\n",
       "      <td>1</td>\n",
       "      <td>5000</td>\n",
       "      <td>4.4</td>\n",
       "      <td>223672</td>\n",
       "      <td>7499</td>\n",
       "      <td>0.16</td>\n",
       "      <td>167.73</td>\n",
       "      <td>10.0</td>\n",
       "    </tr>\n",
       "    <tr>\n",
       "      <th>193</th>\n",
       "      <td>Medium</td>\n",
       "      <td>16</td>\n",
       "      <td>2</td>\n",
       "      <td>2</td>\n",
       "      <td>1</td>\n",
       "      <td>4000</td>\n",
       "      <td>4.4</td>\n",
       "      <td>226996</td>\n",
       "      <td>6499</td>\n",
       "      <td>0.07</td>\n",
       "      <td>147.52</td>\n",
       "      <td>8.5</td>\n",
       "    </tr>\n",
       "  </tbody>\n",
       "</table>\n",
       "</div>"
      ],
      "text/plain": [
       "    screen_size  ROM  RAM  num_rear_camera  num_front_camera  \\\n",
       "98       Medium  128    6                2                 1   \n",
       "110       Large  128    6                4                 2   \n",
       "158       Large   32    2                2                 1   \n",
       "159       Large   32    2                2                 1   \n",
       "193      Medium   16    2                2                 1   \n",
       "\n",
       "     battery_capacity  ratings  num_of_ratings  sales_price  discount_percent  \\\n",
       "98               4000      4.6          122001        18999              0.09   \n",
       "110              4500      4.5          267028        15999              0.20   \n",
       "158              5000      4.4          223672         7499              0.16   \n",
       "159              5000      4.4          223672         7499              0.16   \n",
       "193              4000      4.4          226996         6499              0.07   \n",
       "\n",
       "      sales  성능지표  \n",
       "98   231.79  14.0  \n",
       "110  427.22  17.5  \n",
       "158  167.73  10.0  \n",
       "159  167.73  10.0  \n",
       "193  147.52   8.5  "
      ]
     },
     "execution_count": 85,
     "metadata": {},
     "output_type": "execute_result"
    }
   ],
   "source": [
    "df11[\"성능지표\"] = df11[\"ROM\"]/32 + df11[\"RAM\"]/2 + df11[\"num_rear_camera\"] + df11[\"num_front_camera\"] + df11[\"battery_capacity\"]/1000\n",
    "df11.head()"
   ]
  },
  {
   "cell_type": "code",
   "execution_count": 86,
   "id": "c56ad2ba",
   "metadata": {},
   "outputs": [
    {
     "data": {
      "text/plain": [
       "11.01"
      ]
     },
     "execution_count": 86,
     "metadata": {},
     "output_type": "execute_result"
    }
   ],
   "source": [
    "round(df11[\"성능지표\"].mean(),2)"
   ]
  },
  {
   "cell_type": "markdown",
   "id": "268e3092",
   "metadata": {},
   "source": [
    "# Q2"
   ]
  },
  {
   "cell_type": "markdown",
   "id": "0f3395ad",
   "metadata": {},
   "source": [
    "## <span style = \"color:red\"> 후면카메라 1개 제외 하라고 했는데 문제 잘 읽어보고 해라 </span>"
   ]
  },
  {
   "cell_type": "code",
   "execution_count": 14,
   "id": "7f2b2c92",
   "metadata": {},
   "outputs": [],
   "source": [
    "df2 = df.copy()\n",
    "df2_list = [\"battery_capacity\",\"ratings\", \"num_of_ratings\",\"sales_price\",\"discount_percent\",\"sales\"]"
   ]
  },
  {
   "cell_type": "code",
   "execution_count": 89,
   "id": "93fbbe86",
   "metadata": {},
   "outputs": [],
   "source": [
    "df2 = df2.loc[df[\"num_rear_camera\"]!=1,]"
   ]
  },
  {
   "cell_type": "code",
   "execution_count": 114,
   "id": "6183c18a",
   "metadata": {},
   "outputs": [
    {
     "data": {
      "text/plain": [
       "index               sales_price\n",
       "battery_capacity       0.503019\n",
       "ratings                0.424129\n",
       "num_of_ratings         0.949114\n",
       "sales_price            0.503019\n",
       "discount_percent       0.257373\n",
       "sales                  0.949114\n",
       "dtype: object"
      ]
     },
     "execution_count": 114,
     "metadata": {},
     "output_type": "execute_result"
    }
   ],
   "source": [
    "df2[df2_list].corr().abs().reset_index().replace(1, 0).max()"
   ]
  },
  {
   "cell_type": "code",
   "execution_count": null,
   "id": "0c611580",
   "metadata": {},
   "outputs": [],
   "source": []
  },
  {
   "cell_type": "code",
   "execution_count": 91,
   "id": "fa56f62f",
   "metadata": {},
   "outputs": [
    {
     "data": {
      "text/plain": [
       "0.5"
      ]
     },
     "execution_count": 91,
     "metadata": {},
     "output_type": "execute_result"
    }
   ],
   "source": [
    "df2_corr_list = pd.Series([0.424129, 0.034902, 0.503019,0.257373,0.025680])\n",
    "round(df2_corr_list.max(), 2)"
   ]
  },
  {
   "cell_type": "markdown",
   "id": "7633eaf3",
   "metadata": {},
   "source": [
    "## sales 는 0.949114 이다. "
   ]
  },
  {
   "cell_type": "markdown",
   "id": "3a796325",
   "metadata": {},
   "source": [
    "# 팁 : corr에서 원하는 값을 뽑는 방법... reset_index  및 melt를 활용할수 있다."
   ]
  },
  {
   "cell_type": "code",
   "execution_count": 99,
   "id": "ff0914a5",
   "metadata": {},
   "outputs": [],
   "source": [
    "df_corr_melt = df2[df2_list].corr().abs().reset_index().melt(id_vars = \"index\").head()"
   ]
  },
  {
   "cell_type": "code",
   "execution_count": 104,
   "id": "175dd6c0",
   "metadata": {},
   "outputs": [
    {
     "data": {
      "text/plain": [
       "0.5030192095966874"
      ]
     },
     "execution_count": 104,
     "metadata": {},
     "output_type": "execute_result"
    }
   ],
   "source": [
    "df_corr_melt_sub = df_corr_melt.loc[df_corr_melt[\"index\"] != df_corr_melt[\"variable\"]]\n",
    "df_corr_melt_sub[\"value\"].max()"
   ]
  },
  {
   "cell_type": "code",
   "execution_count": null,
   "id": "c226839b",
   "metadata": {},
   "outputs": [],
   "source": []
  },
  {
   "cell_type": "markdown",
   "id": "62b728ce",
   "metadata": {},
   "source": [
    "# Q3"
   ]
  },
  {
   "cell_type": "code",
   "execution_count": 22,
   "id": "6cd47169",
   "metadata": {},
   "outputs": [
    {
     "data": {
      "text/plain": [
       "Index(['screen_size', 'ROM', 'RAM', 'num_rear_camera', 'num_front_camera',\n",
       "       'battery_capacity', 'ratings', 'num_of_ratings', 'sales_price',\n",
       "       'discount_percent', 'sales'],\n",
       "      dtype='object')"
      ]
     },
     "execution_count": 22,
     "metadata": {},
     "output_type": "execute_result"
    }
   ],
   "source": [
    "df3 = df.copy()\n",
    "df3.columns"
   ]
  },
  {
   "cell_type": "code",
   "execution_count": 25,
   "id": "52f606fa",
   "metadata": {},
   "outputs": [],
   "source": [
    "df33 = pd.get_dummies(df3, columns=[\"screen_size\"])"
   ]
  },
  {
   "cell_type": "code",
   "execution_count": 42,
   "id": "54f8ca87",
   "metadata": {},
   "outputs": [
    {
     "data": {
      "text/plain": [
       "Index(['ROM', 'RAM', 'num_rear_camera', 'num_front_camera', 'battery_capacity',\n",
       "       'ratings', 'num_of_ratings', 'sales_price', 'discount_percent', 'sales',\n",
       "       'screen_size_Large', 'screen_size_Medium', 'screen_size_Small',\n",
       "       'screen_size_Very Large', 'screen_size_Very Small'],\n",
       "      dtype='object')"
      ]
     },
     "execution_count": 42,
     "metadata": {},
     "output_type": "execute_result"
    }
   ],
   "source": [
    "df33.columns"
   ]
  },
  {
   "cell_type": "code",
   "execution_count": 105,
   "id": "6b6fd171",
   "metadata": {},
   "outputs": [
    {
     "data": {
      "text/html": [
       "<div>\n",
       "<style scoped>\n",
       "    .dataframe tbody tr th:only-of-type {\n",
       "        vertical-align: middle;\n",
       "    }\n",
       "\n",
       "    .dataframe tbody tr th {\n",
       "        vertical-align: top;\n",
       "    }\n",
       "\n",
       "    .dataframe thead th {\n",
       "        text-align: right;\n",
       "    }\n",
       "</style>\n",
       "<table border=\"1\" class=\"dataframe\">\n",
       "  <thead>\n",
       "    <tr style=\"text-align: right;\">\n",
       "      <th></th>\n",
       "      <th>ROM</th>\n",
       "      <th>RAM</th>\n",
       "      <th>num_rear_camera</th>\n",
       "      <th>num_front_camera</th>\n",
       "      <th>battery_capacity</th>\n",
       "      <th>ratings</th>\n",
       "      <th>num_of_ratings</th>\n",
       "      <th>sales_price</th>\n",
       "      <th>discount_percent</th>\n",
       "      <th>sales</th>\n",
       "      <th>screen_size_Large</th>\n",
       "      <th>screen_size_Medium</th>\n",
       "      <th>screen_size_Small</th>\n",
       "      <th>screen_size_Very Large</th>\n",
       "      <th>screen_size_Very Small</th>\n",
       "    </tr>\n",
       "  </thead>\n",
       "  <tbody>\n",
       "    <tr>\n",
       "      <th>0</th>\n",
       "      <td>64</td>\n",
       "      <td>2</td>\n",
       "      <td>1</td>\n",
       "      <td>1</td>\n",
       "      <td>1800</td>\n",
       "      <td>4.5</td>\n",
       "      <td>38645</td>\n",
       "      <td>32999</td>\n",
       "      <td>0.17</td>\n",
       "      <td>127.52</td>\n",
       "      <td>0</td>\n",
       "      <td>0</td>\n",
       "      <td>0</td>\n",
       "      <td>0</td>\n",
       "      <td>1</td>\n",
       "    </tr>\n",
       "  </tbody>\n",
       "</table>\n",
       "</div>"
      ],
      "text/plain": [
       "   ROM  RAM  num_rear_camera  num_front_camera  battery_capacity  ratings  \\\n",
       "0   64    2                1                 1              1800      4.5   \n",
       "\n",
       "   num_of_ratings  sales_price  discount_percent   sales  screen_size_Large  \\\n",
       "0           38645        32999              0.17  127.52                  0   \n",
       "\n",
       "   screen_size_Medium  screen_size_Small  screen_size_Very Large  \\\n",
       "0                   0                  0                       0   \n",
       "\n",
       "   screen_size_Very Small  \n",
       "0                       1  "
      ]
     },
     "execution_count": 105,
     "metadata": {},
     "output_type": "execute_result"
    }
   ],
   "source": [
    "df33.head(1)"
   ]
  },
  {
   "cell_type": "markdown",
   "id": "58ddb097",
   "metadata": {},
   "source": [
    "# columns 이름중에 빈칸이 있을때 _ 로 바꿔주는 방법\n",
    "``` python\n",
    "df3.columns.str.replace(\" \", \"_\")\n",
    "```"
   ]
  },
  {
   "cell_type": "code",
   "execution_count": 44,
   "id": "f4cc6a5c",
   "metadata": {},
   "outputs": [],
   "source": [
    "indep_list = ['ROM', 'RAM', 'num_rear_camera', 'num_front_camera', 'battery_capacity',\n",
    "       'ratings', 'num_of_ratings', 'sales_price', 'discount_percent', 'sales',\n",
    "       'screen_size_Large', 'screen_size_Medium', 'screen_size_Small',\n",
    "       'screen_size_Very Large', 'screen_size_Very Small']\n",
    "\n",
    "dep_list = ['sales']"
   ]
  },
  {
   "cell_type": "markdown",
   "id": "2be7409a",
   "metadata": {},
   "source": [
    "# 특정 columns값 앞으로 옮기기\n",
    "df3 = df3.set_index(\"sales\").reset_index()"
   ]
  },
  {
   "cell_type": "code",
   "execution_count": 30,
   "id": "b0ff37d5",
   "metadata": {},
   "outputs": [],
   "source": [
    "train, test = train_test_split(df33, random_state=123, train_size= 0.8)"
   ]
  },
  {
   "cell_type": "code",
   "execution_count": 31,
   "id": "568ae46c",
   "metadata": {},
   "outputs": [
    {
     "data": {
      "text/plain": [
       "(344, 86)"
      ]
     },
     "execution_count": 31,
     "metadata": {},
     "output_type": "execute_result"
    }
   ],
   "source": [
    "len(train), len(test)"
   ]
  },
  {
   "cell_type": "code",
   "execution_count": 43,
   "id": "96fd8b13",
   "metadata": {},
   "outputs": [
    {
     "data": {
      "text/plain": [
       "Index(['ROM', 'RAM', 'num_rear_camera', 'num_front_camera', 'battery_capacity',\n",
       "       'ratings', 'num_of_ratings', 'sales_price', 'discount_percent', 'sales',\n",
       "       'screen_size_Large', 'screen_size_Medium', 'screen_size_Small',\n",
       "       'screen_size_Very Large', 'screen_size_Very Small'],\n",
       "      dtype='object')"
      ]
     },
     "execution_count": 43,
     "metadata": {},
     "output_type": "execute_result"
    }
   ],
   "source": [
    "train.columns"
   ]
  },
  {
   "cell_type": "code",
   "execution_count": 32,
   "id": "b1062684",
   "metadata": {},
   "outputs": [],
   "source": [
    "MM = MinMaxScaler().fit(train)"
   ]
  },
  {
   "cell_type": "code",
   "execution_count": 46,
   "id": "9faf286b",
   "metadata": {},
   "outputs": [],
   "source": [
    "train_m = pd.DataFrame(MM.transform(train), columns= train.columns)\n",
    "test_m = pd.DataFrame(MM.transform(test),  columns= test.columns)"
   ]
  },
  {
   "cell_type": "code",
   "execution_count": 116,
   "id": "3439ed64",
   "metadata": {},
   "outputs": [
    {
     "data": {
      "application/vnd.jupyter.widget-view+json": {
       "model_id": "415b10cfae0245b3a0d891024387c316",
       "version_major": 2,
       "version_minor": 0
      },
      "text/plain": [
       "  0%|          | 0/5 [00:00<?, ?it/s]"
      ]
     },
     "metadata": {},
     "output_type": "display_data"
    },
    {
     "name": "stdout",
     "output_type": "stream",
     "text": [
      "3 0.05815373703785327\n",
      "5 0.07703665678443909\n",
      "7 0.09124204891260387\n",
      "9 0.0999585824713245\n",
      "11 0.10533127243401268\n"
     ]
    },
    {
     "data": {
      "text/plain": [
       "3"
      ]
     },
     "metadata": {},
     "output_type": "display_data"
    },
    {
     "data": {
      "text/plain": [
       "0.05815373703785327"
      ]
     },
     "metadata": {},
     "output_type": "display_data"
    }
   ],
   "source": [
    "from tqdm.notebook import tqdm\n",
    "\n",
    "n_list = [3,5,7,9,11]\n",
    "ls_rmse = []  ## 추가\n",
    "\n",
    "min_v = 9999\n",
    "min_c = 0\n",
    "\n",
    "for n in tqdm(n_list):\n",
    "    model = KNeighborsRegressor(n_neighbors=n).fit(X = train_m[indep_list], y = train_m[dep_list])\n",
    "    pred = model.predict(test_m[indep_list])\n",
    "    acc = mean_squared_error(y_true=test_m[dep_list], y_pred=pred)**0.5\n",
    "    ls_rmse  = ls_rmse +[acc]\n",
    "    \n",
    "    print(n, acc)\n",
    "    if(min_v > acc):\n",
    "        min_v = acc\n",
    "        min_c = n\n",
    "\n",
    "display(min_c, min_v)"
   ]
  },
  {
   "cell_type": "code",
   "execution_count": 123,
   "id": "3aa06ca3",
   "metadata": {},
   "outputs": [
    {
     "data": {
      "text/plain": [
       "3"
      ]
     },
     "execution_count": 123,
     "metadata": {},
     "output_type": "execute_result"
    }
   ],
   "source": [
    "best  = pd.Series(ls_rmse, index=n_list).idxmin()\n",
    "best"
   ]
  },
  {
   "cell_type": "markdown",
   "id": "3b071846",
   "metadata": {},
   "source": [
    "3개.."
   ]
  },
  {
   "cell_type": "markdown",
   "id": "dafb5df2",
   "metadata": {},
   "source": [
    "# Q4 MinMaxScale 할때 순서가 중요하다."
   ]
  },
  {
   "cell_type": "code",
   "execution_count": null,
   "id": "368df351",
   "metadata": {},
   "outputs": [],
   "source": [
    "'ROM', 'RAM', 'num_rear_camera', 'num_front_camera', 'battery_capacity',\n",
    "       'ratings', 'num_of_ratings', 'sales_price', 'discount_percent', \n",
    "       'screen_size_Large', 'screen_size_Medium', 'screen_size_Small',\n",
    "       'screen_size_Very Large', 'screen_size_Very Small', 'sales'"
   ]
  },
  {
   "cell_type": "markdown",
   "id": "5be2ac7d",
   "metadata": {},
   "source": [
    "# Tip... 기존에 있는 DF을 활용해서 만든다. ㅜㅜ\n",
    "df_s1 = test.head(1).reset_index(drop=True)\n",
    "df_s1"
   ]
  },
  {
   "cell_type": "code",
   "execution_count": 64,
   "id": "bac52d80",
   "metadata": {},
   "outputs": [],
   "source": [
    "df4 = pd.DataFrame(np.array([[256, 6, 4, 1, 4000, 4.3, 25000, 85000, 0.05, 1, 0, 0, 0, 0, 0]]),\n",
    "                    columns=['a1', 'a2', 'a3', 'a4', 'a5', 'a6','a7', 'a8', 'a9', 'a10',\n",
    "                             'a11', 'a12', 'a13', 'a14', 'a15'])"
   ]
  },
  {
   "cell_type": "code",
   "execution_count": 66,
   "id": "c00dcafb",
   "metadata": {},
   "outputs": [],
   "source": [
    "df4.columns = ['ROM', 'RAM', 'num_rear_camera', 'num_front_camera', 'battery_capacity',\n",
    "       'ratings', 'num_of_ratings', 'sales_price', 'discount_percent', \n",
    "       'screen_size_Large', 'screen_size_Medium', 'screen_size_Small',\n",
    "       'screen_size_Very Large', 'screen_size_Very Small', 'sales']"
   ]
  },
  {
   "cell_type": "code",
   "execution_count": 67,
   "id": "01c27918",
   "metadata": {},
   "outputs": [
    {
     "data": {
      "text/html": [
       "<div>\n",
       "<style scoped>\n",
       "    .dataframe tbody tr th:only-of-type {\n",
       "        vertical-align: middle;\n",
       "    }\n",
       "\n",
       "    .dataframe tbody tr th {\n",
       "        vertical-align: top;\n",
       "    }\n",
       "\n",
       "    .dataframe thead th {\n",
       "        text-align: right;\n",
       "    }\n",
       "</style>\n",
       "<table border=\"1\" class=\"dataframe\">\n",
       "  <thead>\n",
       "    <tr style=\"text-align: right;\">\n",
       "      <th></th>\n",
       "      <th>ROM</th>\n",
       "      <th>RAM</th>\n",
       "      <th>num_rear_camera</th>\n",
       "      <th>num_front_camera</th>\n",
       "      <th>battery_capacity</th>\n",
       "      <th>ratings</th>\n",
       "      <th>num_of_ratings</th>\n",
       "      <th>sales_price</th>\n",
       "      <th>discount_percent</th>\n",
       "      <th>screen_size_Large</th>\n",
       "      <th>screen_size_Medium</th>\n",
       "      <th>screen_size_Small</th>\n",
       "      <th>screen_size_Very Large</th>\n",
       "      <th>screen_size_Very Small</th>\n",
       "      <th>sales</th>\n",
       "    </tr>\n",
       "  </thead>\n",
       "  <tbody>\n",
       "    <tr>\n",
       "      <th>0</th>\n",
       "      <td>256.0</td>\n",
       "      <td>6.0</td>\n",
       "      <td>4.0</td>\n",
       "      <td>1.0</td>\n",
       "      <td>4000.0</td>\n",
       "      <td>4.3</td>\n",
       "      <td>25000.0</td>\n",
       "      <td>85000.0</td>\n",
       "      <td>0.05</td>\n",
       "      <td>1.0</td>\n",
       "      <td>0.0</td>\n",
       "      <td>0.0</td>\n",
       "      <td>0.0</td>\n",
       "      <td>0.0</td>\n",
       "      <td>0.0</td>\n",
       "    </tr>\n",
       "  </tbody>\n",
       "</table>\n",
       "</div>"
      ],
      "text/plain": [
       "     ROM  RAM  num_rear_camera  num_front_camera  battery_capacity  ratings  \\\n",
       "0  256.0  6.0              4.0               1.0            4000.0      4.3   \n",
       "\n",
       "   num_of_ratings  sales_price  discount_percent  screen_size_Large  \\\n",
       "0         25000.0      85000.0              0.05                1.0   \n",
       "\n",
       "   screen_size_Medium  screen_size_Small  screen_size_Very Large  \\\n",
       "0                 0.0                0.0                     0.0   \n",
       "\n",
       "   screen_size_Very Small  sales  \n",
       "0                     0.0    0.0  "
      ]
     },
     "execution_count": 67,
     "metadata": {},
     "output_type": "execute_result"
    }
   ],
   "source": [
    "df4"
   ]
  },
  {
   "cell_type": "code",
   "execution_count": 143,
   "id": "3305203b",
   "metadata": {},
   "outputs": [],
   "source": [
    "df4_m = pd.DataFrame(MM.transform(df4), columns= df4.columns)"
   ]
  },
  {
   "cell_type": "code",
   "execution_count": 144,
   "id": "9dfc76ef",
   "metadata": {
    "scrolled": true
   },
   "outputs": [
    {
     "data": {
      "text/html": [
       "<div>\n",
       "<style scoped>\n",
       "    .dataframe tbody tr th:only-of-type {\n",
       "        vertical-align: middle;\n",
       "    }\n",
       "\n",
       "    .dataframe tbody tr th {\n",
       "        vertical-align: top;\n",
       "    }\n",
       "\n",
       "    .dataframe thead th {\n",
       "        text-align: right;\n",
       "    }\n",
       "</style>\n",
       "<table border=\"1\" class=\"dataframe\">\n",
       "  <thead>\n",
       "    <tr style=\"text-align: right;\">\n",
       "      <th></th>\n",
       "      <th>ROM</th>\n",
       "      <th>RAM</th>\n",
       "      <th>num_rear_camera</th>\n",
       "      <th>num_front_camera</th>\n",
       "      <th>battery_capacity</th>\n",
       "      <th>ratings</th>\n",
       "      <th>num_of_ratings</th>\n",
       "      <th>sales_price</th>\n",
       "      <th>discount_percent</th>\n",
       "      <th>screen_size_Large</th>\n",
       "      <th>screen_size_Medium</th>\n",
       "      <th>screen_size_Small</th>\n",
       "      <th>screen_size_Very Large</th>\n",
       "      <th>screen_size_Very Small</th>\n",
       "      <th>sales</th>\n",
       "    </tr>\n",
       "  </thead>\n",
       "  <tbody>\n",
       "    <tr>\n",
       "      <th>0</th>\n",
       "      <td>0.492063</td>\n",
       "      <td>0.454545</td>\n",
       "      <td>1.0</td>\n",
       "      <td>0.0</td>\n",
       "      <td>0.423077</td>\n",
       "      <td>0.625</td>\n",
       "      <td>0.053081</td>\n",
       "      <td>0.518158</td>\n",
       "      <td>0.093023</td>\n",
       "      <td>0.002024</td>\n",
       "      <td>0.0</td>\n",
       "      <td>0.0</td>\n",
       "      <td>0.0</td>\n",
       "      <td>0.0</td>\n",
       "      <td>0.0</td>\n",
       "    </tr>\n",
       "  </tbody>\n",
       "</table>\n",
       "</div>"
      ],
      "text/plain": [
       "        ROM       RAM  num_rear_camera  num_front_camera  battery_capacity  \\\n",
       "0  0.492063  0.454545              1.0               0.0          0.423077   \n",
       "\n",
       "   ratings  num_of_ratings  sales_price  discount_percent  screen_size_Large  \\\n",
       "0    0.625        0.053081     0.518158          0.093023           0.002024   \n",
       "\n",
       "   screen_size_Medium  screen_size_Small  screen_size_Very Large  \\\n",
       "0                 0.0                0.0                     0.0   \n",
       "\n",
       "   screen_size_Very Small  sales  \n",
       "0                     0.0    0.0  "
      ]
     },
     "execution_count": 144,
     "metadata": {},
     "output_type": "execute_result"
    }
   ],
   "source": [
    "df4_m"
   ]
  },
  {
   "cell_type": "code",
   "execution_count": 145,
   "id": "b89ed73b",
   "metadata": {},
   "outputs": [],
   "source": [
    "    model = KNeighborsRegressor(n_neighbors=3).fit(X = train_m[indep_list], y = train_m[dep_list])\n",
    "    pred = model.predict(df4_m[indep_list])"
   ]
  },
  {
   "cell_type": "code",
   "execution_count": 146,
   "id": "55de939d",
   "metadata": {},
   "outputs": [
    {
     "data": {
      "text/plain": [
       "array([[0.00132259]])"
      ]
     },
     "execution_count": 146,
     "metadata": {},
     "output_type": "execute_result"
    }
   ],
   "source": [
    "pred"
   ]
  },
  {
   "cell_type": "code",
   "execution_count": 147,
   "id": "57d45294",
   "metadata": {},
   "outputs": [
    {
     "data": {
      "text/plain": [
       "array([8.000e+00, 1.000e+00, 1.000e+00, 1.000e+00, 1.800e+03, 3.800e+00,\n",
       "       4.000e+00, 6.499e+03, 1.000e-02, 0.000e+00, 0.000e+00, 0.000e+00,\n",
       "       0.000e+00, 0.000e+00, 0.000e+00])"
      ]
     },
     "execution_count": 147,
     "metadata": {},
     "output_type": "execute_result"
    }
   ],
   "source": [
    "MM.data_min_"
   ]
  },
  {
   "cell_type": "code",
   "execution_count": 148,
   "id": "799b11c7",
   "metadata": {},
   "outputs": [
    {
     "data": {
      "text/plain": [
       "array([5.12000e+02, 1.20000e+01, 4.00000e+00, 3.00000e+00, 7.00000e+03,\n",
       "       4.60000e+00, 4.70905e+05, 1.57999e+05, 4.40000e-01, 4.93980e+02,\n",
       "       1.00000e+00, 1.00000e+00, 1.00000e+00, 1.00000e+00, 1.00000e+00])"
      ]
     },
     "execution_count": 148,
     "metadata": {},
     "output_type": "execute_result"
    }
   ],
   "source": [
    "MM.data_max_"
   ]
  },
  {
   "cell_type": "code",
   "execution_count": 127,
   "id": "10ad9b76",
   "metadata": {},
   "outputs": [
    {
     "name": "stdout",
     "output_type": "stream",
     "text": [
      "0.6533330082000001\n"
     ]
    }
   ],
   "source": [
    "min_v = 0\n",
    "max_v = 4.93980e+02\n",
    "\n",
    "# 0.00132259 = x - min_v / max_v - min_v\n",
    "x = 0.00132259 * (max_v - min_v) + min_v\n",
    "print(x)"
   ]
  },
  {
   "cell_type": "markdown",
   "id": "d9027c55",
   "metadata": {},
   "source": [
    "# 역변환"
   ]
  },
  {
   "cell_type": "code",
   "execution_count": 149,
   "id": "a862e969",
   "metadata": {},
   "outputs": [],
   "source": [
    "df4_m[\"sales\"]=pred"
   ]
  },
  {
   "cell_type": "code",
   "execution_count": 150,
   "id": "37630dcf",
   "metadata": {},
   "outputs": [
    {
     "data": {
      "text/plain": [
       "array([[2.56000000e+02, 6.00000000e+00, 4.00000000e+00, 1.00000000e+00,\n",
       "        4.00000000e+03, 4.30000000e+00, 2.50000000e+04, 8.50000000e+04,\n",
       "        5.00000000e-02, 1.00000000e+00, 0.00000000e+00, 0.00000000e+00,\n",
       "        0.00000000e+00, 0.00000000e+00, 1.32259066e-03]])"
      ]
     },
     "execution_count": 150,
     "metadata": {},
     "output_type": "execute_result"
    }
   ],
   "source": [
    "MM.inverse_transform(df4_m)"
   ]
  },
  {
   "cell_type": "code",
   "execution_count": 151,
   "id": "5e5233eb",
   "metadata": {},
   "outputs": [
    {
     "data": {
      "text/html": [
       "<div>\n",
       "<style scoped>\n",
       "    .dataframe tbody tr th:only-of-type {\n",
       "        vertical-align: middle;\n",
       "    }\n",
       "\n",
       "    .dataframe tbody tr th {\n",
       "        vertical-align: top;\n",
       "    }\n",
       "\n",
       "    .dataframe thead th {\n",
       "        text-align: right;\n",
       "    }\n",
       "</style>\n",
       "<table border=\"1\" class=\"dataframe\">\n",
       "  <thead>\n",
       "    <tr style=\"text-align: right;\">\n",
       "      <th></th>\n",
       "      <th>ROM</th>\n",
       "      <th>RAM</th>\n",
       "      <th>num_rear_camera</th>\n",
       "      <th>num_front_camera</th>\n",
       "      <th>battery_capacity</th>\n",
       "      <th>ratings</th>\n",
       "      <th>num_of_ratings</th>\n",
       "      <th>sales_price</th>\n",
       "      <th>discount_percent</th>\n",
       "      <th>screen_size_Large</th>\n",
       "      <th>screen_size_Medium</th>\n",
       "      <th>screen_size_Small</th>\n",
       "      <th>screen_size_Very Large</th>\n",
       "      <th>screen_size_Very Small</th>\n",
       "      <th>sales</th>\n",
       "    </tr>\n",
       "  </thead>\n",
       "  <tbody>\n",
       "    <tr>\n",
       "      <th>0</th>\n",
       "      <td>0.492063</td>\n",
       "      <td>0.454545</td>\n",
       "      <td>1.0</td>\n",
       "      <td>0.0</td>\n",
       "      <td>0.423077</td>\n",
       "      <td>0.625</td>\n",
       "      <td>0.053081</td>\n",
       "      <td>0.518158</td>\n",
       "      <td>0.093023</td>\n",
       "      <td>0.002024</td>\n",
       "      <td>0.0</td>\n",
       "      <td>0.0</td>\n",
       "      <td>0.0</td>\n",
       "      <td>0.0</td>\n",
       "      <td>0.001323</td>\n",
       "    </tr>\n",
       "  </tbody>\n",
       "</table>\n",
       "</div>"
      ],
      "text/plain": [
       "        ROM       RAM  num_rear_camera  num_front_camera  battery_capacity  \\\n",
       "0  0.492063  0.454545              1.0               0.0          0.423077   \n",
       "\n",
       "   ratings  num_of_ratings  sales_price  discount_percent  screen_size_Large  \\\n",
       "0    0.625        0.053081     0.518158          0.093023           0.002024   \n",
       "\n",
       "   screen_size_Medium  screen_size_Small  screen_size_Very Large  \\\n",
       "0                 0.0                0.0                     0.0   \n",
       "\n",
       "   screen_size_Very Small     sales  \n",
       "0                     0.0  0.001323  "
      ]
     },
     "execution_count": 151,
     "metadata": {},
     "output_type": "execute_result"
    }
   ],
   "source": [
    "pd.DataFrame(df4_m, columns = df4.columns)"
   ]
  }
 ],
 "metadata": {
  "kernelspec": {
   "display_name": "Python 3 (ipykernel)",
   "language": "python",
   "name": "python3"
  },
  "language_info": {
   "codemirror_mode": {
    "name": "ipython",
    "version": 3
   },
   "file_extension": ".py",
   "mimetype": "text/x-python",
   "name": "python",
   "nbconvert_exporter": "python",
   "pygments_lexer": "ipython3",
   "version": "3.9.7"
  }
 },
 "nbformat": 4,
 "nbformat_minor": 5
}
