{
 "cells": [
  {
   "cell_type": "markdown",
   "id": "3bd359e0",
   "metadata": {},
   "source": [
    "# Q1"
   ]
  },
  {
   "cell_type": "code",
   "execution_count": 3,
   "id": "6a30e604",
   "metadata": {},
   "outputs": [],
   "source": [
    "import pandas as pd\n",
    "from sklearn.ensemble import RandomForestRegressor\n",
    "df = pd.read_csv(\"TV.csv\")"
   ]
  },
  {
   "cell_type": "code",
   "execution_count": 4,
   "id": "1ec8e135",
   "metadata": {},
   "outputs": [
    {
     "data": {
      "text/plain": [
       "(666, 11)"
      ]
     },
     "execution_count": 4,
     "metadata": {},
     "output_type": "execute_result"
    }
   ],
   "source": [
    "df.shape"
   ]
  },
  {
   "cell_type": "code",
   "execution_count": 5,
   "id": "8ee633be",
   "metadata": {},
   "outputs": [
    {
     "data": {
      "text/html": [
       "<div>\n",
       "<style scoped>\n",
       "    .dataframe tbody tr th:only-of-type {\n",
       "        vertical-align: middle;\n",
       "    }\n",
       "\n",
       "    .dataframe tbody tr th {\n",
       "        vertical-align: top;\n",
       "    }\n",
       "\n",
       "    .dataframe thead th {\n",
       "        text-align: right;\n",
       "    }\n",
       "</style>\n",
       "<table border=\"1\" class=\"dataframe\">\n",
       "  <thead>\n",
       "    <tr style=\"text-align: right;\">\n",
       "      <th></th>\n",
       "      <th>Product_Name</th>\n",
       "      <th>Stars</th>\n",
       "      <th>Ratings</th>\n",
       "      <th>Reviews</th>\n",
       "      <th>current_price</th>\n",
       "      <th>MRP</th>\n",
       "      <th>channel</th>\n",
       "      <th>Operating_system</th>\n",
       "      <th>Picture_quality</th>\n",
       "      <th>Speaker</th>\n",
       "      <th>Frequency</th>\n",
       "    </tr>\n",
       "  </thead>\n",
       "  <tbody>\n",
       "    <tr>\n",
       "      <th>0</th>\n",
       "      <td>Croma</td>\n",
       "      <td>4.2</td>\n",
       "      <td>1773</td>\n",
       "      <td>217</td>\n",
       "      <td>7990</td>\n",
       "      <td>20000</td>\n",
       "      <td>HD Ready 1366 x 768 Pixels</td>\n",
       "      <td>20 Speaker Output</td>\n",
       "      <td>60 Hz Refresh Rate</td>\n",
       "      <td>2 x HDMI | 2 x USB</td>\n",
       "      <td>1 Year Warranty</td>\n",
       "    </tr>\n",
       "    <tr>\n",
       "      <th>1</th>\n",
       "      <td>Adsun</td>\n",
       "      <td>3.8</td>\n",
       "      <td>6742</td>\n",
       "      <td>930</td>\n",
       "      <td>8699</td>\n",
       "      <td>21999</td>\n",
       "      <td>Netflix|Disney+Hotstar|Youtube</td>\n",
       "      <td>Operating System: Android Based</td>\n",
       "      <td>HD Ready 1366 x 768 Pixels</td>\n",
       "      <td>20 W Speaker Output</td>\n",
       "      <td>60 Hz Refresh Rate</td>\n",
       "    </tr>\n",
       "    <tr>\n",
       "      <th>2</th>\n",
       "      <td>LG</td>\n",
       "      <td>4.4</td>\n",
       "      <td>38870</td>\n",
       "      <td>3443</td>\n",
       "      <td>16499</td>\n",
       "      <td>21990</td>\n",
       "      <td>Netflix|Prime Video|Disney+Hotstar|Youtube</td>\n",
       "      <td>Operating System: WebOS</td>\n",
       "      <td>HD Ready 1366 x 768 Pixels</td>\n",
       "      <td>10 W Speaker Output</td>\n",
       "      <td>50 Hz Refresh Rate</td>\n",
       "    </tr>\n",
       "    <tr>\n",
       "      <th>3</th>\n",
       "      <td>OnePlus</td>\n",
       "      <td>4.3</td>\n",
       "      <td>101256</td>\n",
       "      <td>9189</td>\n",
       "      <td>16499</td>\n",
       "      <td>21999</td>\n",
       "      <td>Netflix|Prime Video|Disney+Hotstar|Youtube</td>\n",
       "      <td>Operating System: Android</td>\n",
       "      <td>HD Ready 1366 x 768 Pixels</td>\n",
       "      <td>20 W Speaker Output</td>\n",
       "      <td>60 Hz Refresh Rate</td>\n",
       "    </tr>\n",
       "    <tr>\n",
       "      <th>4</th>\n",
       "      <td>Xiaomi</td>\n",
       "      <td>4.3</td>\n",
       "      <td>3120</td>\n",
       "      <td>305</td>\n",
       "      <td>15499</td>\n",
       "      <td>24999</td>\n",
       "      <td>Netflix|Prime Video|Disney+Hotstar|Youtube</td>\n",
       "      <td>Operating System: Android</td>\n",
       "      <td>HD Ready 1366 x 768 Pixels</td>\n",
       "      <td>20 W Speaker Output</td>\n",
       "      <td>60 Hz Refresh Rate</td>\n",
       "    </tr>\n",
       "  </tbody>\n",
       "</table>\n",
       "</div>"
      ],
      "text/plain": [
       "  Product_Name  Stars  Ratings  Reviews  current_price    MRP  \\\n",
       "0        Croma    4.2     1773      217           7990  20000   \n",
       "1        Adsun    3.8     6742      930           8699  21999   \n",
       "2           LG    4.4    38870     3443          16499  21990   \n",
       "3      OnePlus    4.3   101256     9189          16499  21999   \n",
       "4       Xiaomi    4.3     3120      305          15499  24999   \n",
       "\n",
       "                                      channel  \\\n",
       "0                  HD Ready 1366 x 768 Pixels   \n",
       "1              Netflix|Disney+Hotstar|Youtube   \n",
       "2  Netflix|Prime Video|Disney+Hotstar|Youtube   \n",
       "3  Netflix|Prime Video|Disney+Hotstar|Youtube   \n",
       "4  Netflix|Prime Video|Disney+Hotstar|Youtube   \n",
       "\n",
       "                  Operating_system             Picture_quality  \\\n",
       "0                20 Speaker Output          60 Hz Refresh Rate   \n",
       "1  Operating System: Android Based  HD Ready 1366 x 768 Pixels   \n",
       "2          Operating System: WebOS  HD Ready 1366 x 768 Pixels   \n",
       "3        Operating System: Android  HD Ready 1366 x 768 Pixels   \n",
       "4        Operating System: Android  HD Ready 1366 x 768 Pixels   \n",
       "\n",
       "               Speaker           Frequency  \n",
       "0   2 x HDMI | 2 x USB     1 Year Warranty  \n",
       "1  20 W Speaker Output  60 Hz Refresh Rate  \n",
       "2  10 W Speaker Output  50 Hz Refresh Rate  \n",
       "3  20 W Speaker Output  60 Hz Refresh Rate  \n",
       "4  20 W Speaker Output  60 Hz Refresh Rate  "
      ]
     },
     "execution_count": 5,
     "metadata": {},
     "output_type": "execute_result"
    }
   ],
   "source": [
    "df.head()"
   ]
  },
  {
   "cell_type": "code",
   "execution_count": 69,
   "id": "144f8813",
   "metadata": {},
   "outputs": [
    {
     "data": {
      "text/plain": [
       "0                                    60 Hz Refresh Rate\n",
       "15                                  120 Hz Refresh Rate\n",
       "16                                  100 Hz Refresh Rate\n",
       "18                                  200 Hz Refresh Rate\n",
       "20                                   58 Hz Refresh Rate\n",
       "22                                   50 Hz Refresh Rate\n",
       "48    60 Hz Refresh Rate for a blur-free picture qua...\n",
       "61                                  300 Hz Refresh Rate\n",
       "dtype: object"
      ]
     },
     "execution_count": 69,
     "metadata": {},
     "output_type": "execute_result"
    }
   ],
   "source": [
    "ser_u = pd.Series(df[\"Picture_quality\"].unique())\n",
    "ser_u[ser_u.str.contains(\"Hz\")]"
   ]
  },
  {
   "cell_type": "code",
   "execution_count": 73,
   "id": "4c767229",
   "metadata": {},
   "outputs": [
    {
     "data": {
      "text/plain": [
       "60 Hz Refresh Rate     423\n",
       "50 Hz Refresh Rate      53\n",
       "100 Hz Refresh Rate     25\n",
       "120 Hz Refresh Rate     23\n",
       "200 Hz Refresh Rate     14\n",
       "800 Hz Refresh Rate      2\n",
       "Name: Frequency, dtype: int64"
      ]
     },
     "metadata": {},
     "output_type": "display_data"
    },
    {
     "data": {
      "text/plain": [
       "60 Hz Refresh Rate                                    76\n",
       "50 Hz Refresh Rate                                     8\n",
       "120 Hz Refresh Rate                                    6\n",
       "100 Hz Refresh Rate                                    4\n",
       "200 Hz Refresh Rate                                    2\n",
       "58 Hz Refresh Rate                                     1\n",
       "60 Hz Refresh Rate for a blur-free picture quality     1\n",
       "300 Hz Refresh Rate                                    1\n",
       "Name: Picture_quality, dtype: int64"
      ]
     },
     "metadata": {},
     "output_type": "display_data"
    },
    {
     "data": {
      "text/plain": [
       "60 Hz Refresh Rate     10\n",
       "50 Hz Refresh Rate      8\n",
       "200 Hz Refresh Rate     3\n",
       "120 Hz Refresh Rate     1\n",
       "100 Hz Refresh Rate     1\n",
       "Name: Speaker, dtype: int64"
      ]
     },
     "metadata": {},
     "output_type": "display_data"
    }
   ],
   "source": [
    "display(df.loc[df[\"Frequency\"].str.contains(\"Hz\")][\"Frequency\"].value_counts())\n",
    "display(df.loc[df[\"Picture_quality\"].str.contains(\"Hz\")][\"Picture_quality\"].value_counts())\n",
    "display(df.loc[df[\"Speaker\"].str.contains(\"Hz\")][\"Speaker\"].value_counts())\n"
   ]
  },
  {
   "cell_type": "code",
   "execution_count": 10,
   "id": "7ee1aaee",
   "metadata": {},
   "outputs": [
    {
     "data": {
      "text/plain": [
       "0      False\n",
       "1       True\n",
       "2      False\n",
       "3       True\n",
       "4       True\n",
       "       ...  \n",
       "661    False\n",
       "662    False\n",
       "663    False\n",
       "664    False\n",
       "665    False\n",
       "Name: Frequency, Length: 666, dtype: bool"
      ]
     },
     "execution_count": 10,
     "metadata": {},
     "output_type": "execute_result"
    }
   ],
   "source": [
    "df['Frequency'].str.contains(\"60 Hz\")"
   ]
  },
  {
   "cell_type": "code",
   "execution_count": 11,
   "id": "8a04a803",
   "metadata": {
    "scrolled": true
   },
   "outputs": [],
   "source": [
    "df_60hz = df.loc[(df['Frequency'].str.contains(\"60 Hz\")) | (df['Picture_quality'].str.contains(\"60 Hz\")) | (df['Speaker'].str.contains(\"60 Hz\")) ,: ]"
   ]
  },
  {
   "cell_type": "code",
   "execution_count": 12,
   "id": "84683aaa",
   "metadata": {},
   "outputs": [
    {
     "data": {
      "text/plain": [
       "(510, 11)"
      ]
     },
     "execution_count": 12,
     "metadata": {},
     "output_type": "execute_result"
    }
   ],
   "source": [
    "df_60hz.shape"
   ]
  },
  {
   "cell_type": "markdown",
   "id": "2b10abf0",
   "metadata": {},
   "source": [
    "# Q2"
   ]
  },
  {
   "cell_type": "code",
   "execution_count": 74,
   "id": "ea0e8b2d",
   "metadata": {},
   "outputs": [],
   "source": [
    "import pandas as pd\n",
    "from sklearn.ensemble import RandomForestRegressor\n",
    "df = pd.read_csv(\"TV.csv\")"
   ]
  },
  {
   "cell_type": "code",
   "execution_count": 75,
   "id": "ccf6349d",
   "metadata": {},
   "outputs": [
    {
     "data": {
      "text/plain": [
       "14      Ultra HD (4K) 3840x2160 Pixels\n",
       "22    Ultra HD (4K) 3840 x 2160 Pixels\n",
       "30    Ultra HD (4K) 3840 * 2160 Pixels\n",
       "dtype: object"
      ]
     },
     "execution_count": 75,
     "metadata": {},
     "output_type": "execute_result"
    }
   ],
   "source": [
    "ser_u = pd.Series(df[\"Operating_system\"].unique())\n",
    "ser_u[ser_u.str.contains(\"4K|8K\")]"
   ]
  },
  {
   "cell_type": "code",
   "execution_count": 14,
   "id": "0fe897ad",
   "metadata": {},
   "outputs": [
    {
     "data": {
      "text/html": [
       "<div>\n",
       "<style scoped>\n",
       "    .dataframe tbody tr th:only-of-type {\n",
       "        vertical-align: middle;\n",
       "    }\n",
       "\n",
       "    .dataframe tbody tr th {\n",
       "        vertical-align: top;\n",
       "    }\n",
       "\n",
       "    .dataframe thead th {\n",
       "        text-align: right;\n",
       "    }\n",
       "</style>\n",
       "<table border=\"1\" class=\"dataframe\">\n",
       "  <thead>\n",
       "    <tr style=\"text-align: right;\">\n",
       "      <th></th>\n",
       "      <th>Product_Name</th>\n",
       "      <th>Stars</th>\n",
       "      <th>Ratings</th>\n",
       "      <th>Reviews</th>\n",
       "      <th>current_price</th>\n",
       "      <th>MRP</th>\n",
       "      <th>channel</th>\n",
       "      <th>Operating_system</th>\n",
       "      <th>Picture_quality</th>\n",
       "      <th>Speaker</th>\n",
       "      <th>Frequency</th>\n",
       "    </tr>\n",
       "  </thead>\n",
       "  <tbody>\n",
       "    <tr>\n",
       "      <th>0</th>\n",
       "      <td>Croma</td>\n",
       "      <td>4.2</td>\n",
       "      <td>1773</td>\n",
       "      <td>217</td>\n",
       "      <td>7990</td>\n",
       "      <td>20000</td>\n",
       "      <td>HD Ready 1366 x 768 Pixels</td>\n",
       "      <td>20 Speaker Output</td>\n",
       "      <td>60 Hz Refresh Rate</td>\n",
       "      <td>2 x HDMI | 2 x USB</td>\n",
       "      <td>1 Year Warranty</td>\n",
       "    </tr>\n",
       "    <tr>\n",
       "      <th>1</th>\n",
       "      <td>Adsun</td>\n",
       "      <td>3.8</td>\n",
       "      <td>6742</td>\n",
       "      <td>930</td>\n",
       "      <td>8699</td>\n",
       "      <td>21999</td>\n",
       "      <td>Netflix|Disney+Hotstar|Youtube</td>\n",
       "      <td>Operating System: Android Based</td>\n",
       "      <td>HD Ready 1366 x 768 Pixels</td>\n",
       "      <td>20 W Speaker Output</td>\n",
       "      <td>60 Hz Refresh Rate</td>\n",
       "    </tr>\n",
       "    <tr>\n",
       "      <th>2</th>\n",
       "      <td>LG</td>\n",
       "      <td>4.4</td>\n",
       "      <td>38870</td>\n",
       "      <td>3443</td>\n",
       "      <td>16499</td>\n",
       "      <td>21990</td>\n",
       "      <td>Netflix|Prime Video|Disney+Hotstar|Youtube</td>\n",
       "      <td>Operating System: WebOS</td>\n",
       "      <td>HD Ready 1366 x 768 Pixels</td>\n",
       "      <td>10 W Speaker Output</td>\n",
       "      <td>50 Hz Refresh Rate</td>\n",
       "    </tr>\n",
       "  </tbody>\n",
       "</table>\n",
       "</div>"
      ],
      "text/plain": [
       "  Product_Name  Stars  Ratings  Reviews  current_price    MRP  \\\n",
       "0        Croma    4.2     1773      217           7990  20000   \n",
       "1        Adsun    3.8     6742      930           8699  21999   \n",
       "2           LG    4.4    38870     3443          16499  21990   \n",
       "\n",
       "                                      channel  \\\n",
       "0                  HD Ready 1366 x 768 Pixels   \n",
       "1              Netflix|Disney+Hotstar|Youtube   \n",
       "2  Netflix|Prime Video|Disney+Hotstar|Youtube   \n",
       "\n",
       "                  Operating_system             Picture_quality  \\\n",
       "0                20 Speaker Output          60 Hz Refresh Rate   \n",
       "1  Operating System: Android Based  HD Ready 1366 x 768 Pixels   \n",
       "2          Operating System: WebOS  HD Ready 1366 x 768 Pixels   \n",
       "\n",
       "               Speaker           Frequency  \n",
       "0   2 x HDMI | 2 x USB     1 Year Warranty  \n",
       "1  20 W Speaker Output  60 Hz Refresh Rate  \n",
       "2  10 W Speaker Output  50 Hz Refresh Rate  "
      ]
     },
     "execution_count": 14,
     "metadata": {},
     "output_type": "execute_result"
    }
   ],
   "source": [
    "df.head(3)"
   ]
  },
  {
   "cell_type": "code",
   "execution_count": 77,
   "id": "8f6909df",
   "metadata": {},
   "outputs": [
    {
     "data": {
      "text/plain": [
       "3.6"
      ]
     },
     "execution_count": 77,
     "metadata": {},
     "output_type": "execute_result"
    }
   ],
   "source": [
    "con1 = df['Operating_system'].str.contains(\"8K\")\n",
    "con2 = df['channel'].str.contains(\"8K\")\n",
    "con3 = df['Picture_quality'].str.contains(\"8K\")\n",
    "\n",
    "df_8k = df.loc[con1 | con2 | con3 , :]\n",
    "df_8k[\"Stars\"].mean()"
   ]
  },
  {
   "cell_type": "code",
   "execution_count": 17,
   "id": "854971d6",
   "metadata": {},
   "outputs": [
    {
     "data": {
      "text/plain": [
       "3.2180821917808218"
      ]
     },
     "execution_count": 17,
     "metadata": {},
     "output_type": "execute_result"
    }
   ],
   "source": [
    "con1 = df['Operating_system'].str.contains(\"4K\")\n",
    "con2 = df['channel'].str.contains(\"4K\")\n",
    "con3 = df['Picture_quality'].str.contains(\"4K\")\n",
    "\n",
    "df_4k = df.loc[con1 | con2 | con3 , :]\n",
    "df_4k.Stars.mean()"
   ]
  },
  {
   "cell_type": "code",
   "execution_count": 76,
   "id": "2e1c3fed",
   "metadata": {},
   "outputs": [
    {
     "data": {
      "text/plain": [
       "0.38"
      ]
     },
     "execution_count": 76,
     "metadata": {},
     "output_type": "execute_result"
    }
   ],
   "source": [
    "round(abs(df_8k.Stars.mean() - df_4k.Stars.mean()),2)"
   ]
  },
  {
   "cell_type": "markdown",
   "id": "297bfd4c",
   "metadata": {},
   "source": [
    "# Q3"
   ]
  },
  {
   "cell_type": "code",
   "execution_count": 40,
   "id": "687c6671",
   "metadata": {},
   "outputs": [],
   "source": [
    "import pandas as pd\n",
    "from sklearn.ensemble import RandomForestRegressor\n",
    "df = pd.read_csv(\"TV.csv\")"
   ]
  },
  {
   "cell_type": "code",
   "execution_count": 41,
   "id": "56e6c4c8",
   "metadata": {},
   "outputs": [
    {
     "data": {
      "text/plain": [
       "(548, 11)"
      ]
     },
     "execution_count": 41,
     "metadata": {},
     "output_type": "execute_result"
    }
   ],
   "source": [
    "con1 = df[\"channel\"].str.contains(\"Pixel\")\n",
    "con2 = df[\"channel\"].str.contains(\"Oper\")\n",
    "df_3 = df.loc[~(con1| con2),:]\n",
    "df_3.shape"
   ]
  },
  {
   "cell_type": "code",
   "execution_count": 30,
   "id": "de859c34",
   "metadata": {},
   "outputs": [
    {
     "data": {
      "text/plain": [
       "Netflix|Prime Video|Disney+Hotstar|Youtube             294\n",
       "Netflix|Disney+Hotstar|Youtube                         171\n",
       "Netflix|Youtube                                         28\n",
       "Netflix|Prime Video|Youtube                             21\n",
       "Prime Video|Disney+Hotstar|Youtube                      18\n",
       "Disney+Hotstar|Youtube                                   6\n",
       "Youtube                                                  4\n",
       "Netflix|Prime Video|Apple TV|Disney+Hotstar|Youtube      4\n",
       "Prime Video|Youtube                                      1\n",
       "Prime Video                                              1\n",
       "Name: channel, dtype: int64"
      ]
     },
     "execution_count": 30,
     "metadata": {},
     "output_type": "execute_result"
    }
   ],
   "source": [
    "df_3[\"channel\"].value_counts()"
   ]
  },
  {
   "cell_type": "code",
   "execution_count": 31,
   "id": "eac15236",
   "metadata": {},
   "outputs": [
    {
     "data": {
      "text/plain": [
       "Index(['Product_Name', 'Stars', 'Ratings', 'Reviews', 'current_price', 'MRP',\n",
       "       'channel', 'Operating_system', 'Picture_quality', 'Speaker',\n",
       "       'Frequency'],\n",
       "      dtype='object')"
      ]
     },
     "execution_count": 31,
     "metadata": {},
     "output_type": "execute_result"
    }
   ],
   "source": [
    "df_3.columns"
   ]
  },
  {
   "cell_type": "code",
   "execution_count": 79,
   "id": "99c52e3e",
   "metadata": {
    "collapsed": true
   },
   "outputs": [
    {
     "name": "stderr",
     "output_type": "stream",
     "text": [
      "C:\\Users\\younl\\AppData\\Local\\Temp/ipykernel_14856/22004319.py:2: SettingWithCopyWarning: \n",
      "A value is trying to be set on a copy of a slice from a DataFrame.\n",
      "Try using .loc[row_indexer,col_indexer] = value instead\n",
      "\n",
      "See the caveats in the documentation: https://pandas.pydata.org/pandas-docs/stable/user_guide/indexing.html#returning-a-view-versus-a-copy\n",
      "  df_3[\"후기작성비율\"] = df_3[\"Reviews\"] / df_3[\"Ratings\"]\n",
      "C:\\Users\\younl\\AppData\\Local\\Temp/ipykernel_14856/22004319.py:4: SettingWithCopyWarning: \n",
      "A value is trying to be set on a copy of a slice from a DataFrame.\n",
      "Try using .loc[row_indexer,col_indexer] = value instead\n",
      "\n",
      "See the caveats in the documentation: https://pandas.pydata.org/pandas-docs/stable/user_guide/indexing.html#returning-a-view-versus-a-copy\n",
      "  df_3[\"할인율\"] = df_3[\"current_price\"]/df_3[\"MRP\"]\n",
      "C:\\Users\\younl\\AppData\\Local\\Temp/ipykernel_14856/22004319.py:5: SettingWithCopyWarning: \n",
      "A value is trying to be set on a copy of a slice from a DataFrame.\n",
      "Try using .loc[row_indexer,col_indexer] = value instead\n",
      "\n",
      "See the caveats in the documentation: https://pandas.pydata.org/pandas-docs/stable/user_guide/indexing.html#returning-a-view-versus-a-copy\n",
      "  df_3[\"Netflix\"] = df_3[\"channel\"].str.contains(\"Netflix\") + 0\n",
      "C:\\Users\\younl\\AppData\\Local\\Temp/ipykernel_14856/22004319.py:6: SettingWithCopyWarning: \n",
      "A value is trying to be set on a copy of a slice from a DataFrame.\n",
      "Try using .loc[row_indexer,col_indexer] = value instead\n",
      "\n",
      "See the caveats in the documentation: https://pandas.pydata.org/pandas-docs/stable/user_guide/indexing.html#returning-a-view-versus-a-copy\n",
      "  df_3[\"Prime Video\"] = df_3[\"channel\"].str.contains(\"Prime Video\") + 0\n",
      "C:\\Users\\younl\\AppData\\Local\\Temp/ipykernel_14856/22004319.py:8: SettingWithCopyWarning: \n",
      "A value is trying to be set on a copy of a slice from a DataFrame.\n",
      "Try using .loc[row_indexer,col_indexer] = value instead\n",
      "\n",
      "See the caveats in the documentation: https://pandas.pydata.org/pandas-docs/stable/user_guide/indexing.html#returning-a-view-versus-a-copy\n",
      "  df_3['고해상도'] = (df_3[\"Picture_quality\"].str.contains(\"4K|8K\"))+0\n"
     ]
    },
    {
     "data": {
      "text/plain": [
       "(197, 17)"
      ]
     },
     "execution_count": 79,
     "metadata": {},
     "output_type": "execute_result"
    }
   ],
   "source": [
    "#독립변수\n",
    "df_3[\"후기작성비율\"] = df_3[\"Reviews\"] / df_3[\"Ratings\"]\n",
    "#MRP\n",
    "df_3[\"할인율\"] = df_3[\"current_price\"]/df_3[\"MRP\"]\n",
    "df_3[\"Netflix\"] = df_3[\"channel\"].str.contains(\"Netflix\") + 0\n",
    "df_3[\"Prime Video\"] = df_3[\"channel\"].str.contains(\"Prime Video\") + 0\n",
    "# df_3['고해상도'] = (df_3[\"Picture_quality\"].str.contains(\"4K\") | df_3[\"Picture_quality\"].str.contains(\"8K\"))+0\n",
    "df_3['고해상도'] = (df_3[\"Picture_quality\"].str.contains(\"4K|8K\"))+0\n",
    "df_3.shape"
   ]
  },
  {
   "cell_type": "code",
   "execution_count": 80,
   "id": "beb3d3fa",
   "metadata": {},
   "outputs": [
    {
     "data": {
      "text/plain": [
       "Product_Name        0\n",
       "Stars               0\n",
       "Ratings             0\n",
       "Reviews             0\n",
       "current_price       0\n",
       "MRP                 0\n",
       "channel             0\n",
       "Operating_system    0\n",
       "Picture_quality     0\n",
       "Speaker             0\n",
       "Frequency           0\n",
       "후기작성비율              0\n",
       "할인율                 0\n",
       "Netflix             0\n",
       "Prime Video         0\n",
       "고해상도                0\n",
       "drop                0\n",
       "dtype: int64"
      ]
     },
     "execution_count": 80,
     "metadata": {},
     "output_type": "execute_result"
    }
   ],
   "source": [
    "df_3.isna().sum()"
   ]
  },
  {
   "cell_type": "code",
   "execution_count": 55,
   "id": "8efa80b1",
   "metadata": {},
   "outputs": [
    {
     "name": "stderr",
     "output_type": "stream",
     "text": [
      "C:\\Users\\younl\\AppData\\Local\\Temp/ipykernel_14856/3492333532.py:1: SettingWithCopyWarning: \n",
      "A value is trying to be set on a copy of a slice from a DataFrame.\n",
      "Try using .loc[row_indexer,col_indexer] = value instead\n",
      "\n",
      "See the caveats in the documentation: https://pandas.pydata.org/pandas-docs/stable/user_guide/indexing.html#returning-a-view-versus-a-copy\n",
      "  df_3[\"drop\"] = ~df_3[\"후기작성비율\"].isna()\n"
     ]
    }
   ],
   "source": [
    "df_3[\"drop\"] = ~df_3[\"후기작성비율\"].isna()"
   ]
  },
  {
   "cell_type": "code",
   "execution_count": 58,
   "id": "1ff03a11",
   "metadata": {},
   "outputs": [
    {
     "data": {
      "text/plain": [
       "(197, 17)"
      ]
     },
     "execution_count": 58,
     "metadata": {},
     "output_type": "execute_result"
    }
   ],
   "source": [
    "df_3 = df_3.loc[df_3[\"drop\"]==True,:]\n",
    "df_3.shape"
   ]
  },
  {
   "cell_type": "code",
   "execution_count": 59,
   "id": "b0df51ff",
   "metadata": {},
   "outputs": [
    {
     "data": {
      "text/plain": [
       "Index(['Product_Name', 'Stars', 'Ratings', 'Reviews', 'current_price', 'MRP',\n",
       "       'channel', 'Operating_system', 'Picture_quality', 'Speaker',\n",
       "       'Frequency', '후기작성비율', '할인율', 'Netflix', 'Prime Video', '고해상도', 'drop'],\n",
       "      dtype='object')"
      ]
     },
     "execution_count": 59,
     "metadata": {},
     "output_type": "execute_result"
    }
   ],
   "source": [
    "df_3.columns"
   ]
  },
  {
   "cell_type": "code",
   "execution_count": 60,
   "id": "f8aab36e",
   "metadata": {},
   "outputs": [],
   "source": [
    "indep_l = ['후기작성비율','MRP','할인율','Netflix','Prime Video','고해상도']\n",
    "dep_l = \"Stars\""
   ]
  },
  {
   "cell_type": "code",
   "execution_count": 62,
   "id": "6892446d",
   "metadata": {},
   "outputs": [],
   "source": [
    "model = RandomForestRegressor(random_state=123).fit(X=df_3[indep_l], y =df_3[dep_l])"
   ]
  },
  {
   "cell_type": "code",
   "execution_count": 66,
   "id": "311c58cf",
   "metadata": {},
   "outputs": [
    {
     "data": {
      "text/plain": [
       "array([0.31220617, 0.17383963, 0.4446912 , 0.02714087, 0.02400442,\n",
       "       0.01811773])"
      ]
     },
     "execution_count": 66,
     "metadata": {},
     "output_type": "execute_result"
    }
   ],
   "source": [
    "model.feature_importances_"
   ]
  },
  {
   "cell_type": "code",
   "execution_count": null,
   "id": "dd69dc1b",
   "metadata": {},
   "outputs": [],
   "source": [
    "'할인율'"
   ]
  },
  {
   "cell_type": "code",
   "execution_count": 81,
   "id": "5b3f8883",
   "metadata": {},
   "outputs": [
    {
     "data": {
      "text/plain": [
       "후기작성비율         0.312206\n",
       "MRP            0.173840\n",
       "할인율            0.444691\n",
       "Netflix        0.027141\n",
       "Prime Video    0.024004\n",
       "고해상도           0.018118\n",
       "dtype: float64"
      ]
     },
     "execution_count": 81,
     "metadata": {},
     "output_type": "execute_result"
    }
   ],
   "source": [
    "pd.Series(model.feature_importances_, index = indep_l)"
   ]
  }
 ],
 "metadata": {
  "kernelspec": {
   "display_name": "Python 3 (ipykernel)",
   "language": "python",
   "name": "python3"
  },
  "language_info": {
   "codemirror_mode": {
    "name": "ipython",
    "version": 3
   },
   "file_extension": ".py",
   "mimetype": "text/x-python",
   "name": "python",
   "nbconvert_exporter": "python",
   "pygments_lexer": "ipython3",
   "version": "3.9.7"
  }
 },
 "nbformat": 4,
 "nbformat_minor": 5
}
