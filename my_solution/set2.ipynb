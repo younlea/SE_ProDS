{
 "cells": [
  {
   "cell_type": "markdown",
   "id": "d7d02388",
   "metadata": {},
   "source": [
    "# Q1"
   ]
  },
  {
   "cell_type": "code",
   "execution_count": 1,
   "id": "a14a5cdb",
   "metadata": {},
   "outputs": [],
   "source": [
    "import pandas as pd\n",
    "df = pd.read_csv(\"galaxy_users.csv\")"
   ]
  },
  {
   "cell_type": "code",
   "execution_count": 2,
   "id": "f9b0db90",
   "metadata": {},
   "outputs": [
    {
     "data": {
      "text/plain": [
       "(7032, 21)"
      ]
     },
     "execution_count": 2,
     "metadata": {},
     "output_type": "execute_result"
    }
   ],
   "source": [
    "df.shape"
   ]
  },
  {
   "cell_type": "code",
   "execution_count": 3,
   "id": "cb6751c9",
   "metadata": {},
   "outputs": [
    {
     "data": {
      "text/plain": [
       "Index(['customerID', 'gender', 'SeniorCitizen', 'Partner', 'Dependents',\n",
       "       'tenure', 'PhoneService', 'MultipleLines', 'InternetService',\n",
       "       'OnlineSecurity', 'OnlineBackup', 'DeviceProtection', 'TechSupport',\n",
       "       'StreamingTV', 'StreamingMovies', 'Contract', 'PaperlessBilling',\n",
       "       'PaymentMethod', 'MonthlyCharges', 'TotalCharges', 'Churn'],\n",
       "      dtype='object')"
      ]
     },
     "execution_count": 3,
     "metadata": {},
     "output_type": "execute_result"
    }
   ],
   "source": [
    "df.columns"
   ]
  },
  {
   "cell_type": "markdown",
   "id": "4103acdb",
   "metadata": {},
   "source": [
    "df_Q1 = df.loc[:,\"OnlineSecurity\": \"StreamingMovies\"]"
   ]
  },
  {
   "cell_type": "markdown",
   "id": "a800e648",
   "metadata": {},
   "source": [
    "df_q1= df_q1.replace({\"Yes\":1, \"No\":0})"
   ]
  },
  {
   "cell_type": "markdown",
   "id": "f83d0ce1",
   "metadata": {},
   "source": [
    "df_q1.apply(lambda x: x.unique())"
   ]
  },
  {
   "cell_type": "markdown",
   "id": "88b35e2e",
   "metadata": {},
   "source": [
    "## replace 이후에 dropna로 처리해도 된다. "
   ]
  },
  {
   "cell_type": "code",
   "execution_count": 104,
   "id": "c469e288",
   "metadata": {},
   "outputs": [],
   "source": [
    "voc_list = [\"OnlineSecurity\",\"OnlineBackup\",\"DeviceProtection\",\"TechSupport\",\"StreamingTV\",\"StreamingMovies\"]\n",
    "df_Q1 = df[[\"customerID\",\"OnlineSecurity\",\"OnlineBackup\",\"DeviceProtection\",\"TechSupport\",\"StreamingTV\",\"StreamingMovies\"]]\n",
    "\n",
    "for n in voc_list:\n",
    "    df_Q1 = df_Q1.loc[(df_Q1[n]== \"Yes\") |(df_Q1[n]== \"No\"),: ]\n"
   ]
  },
  {
   "cell_type": "code",
   "execution_count": 105,
   "id": "fe5a1058",
   "metadata": {},
   "outputs": [
    {
     "data": {
      "text/plain": [
       "(5512, 7)"
      ]
     },
     "execution_count": 105,
     "metadata": {},
     "output_type": "execute_result"
    }
   ],
   "source": [
    "df_Q1.shape"
   ]
  },
  {
   "cell_type": "code",
   "execution_count": 106,
   "id": "23f4e08f",
   "metadata": {},
   "outputs": [],
   "source": [
    "df_Q1[\"cnt\"] = 0"
   ]
  },
  {
   "cell_type": "code",
   "execution_count": 107,
   "id": "6f2e8e37",
   "metadata": {},
   "outputs": [],
   "source": [
    "for n in voc_list:\n",
    "    df_Q1[\"cnt\"] = ((df_Q1[n] == \"Yes\")+0) + df_Q1[\"cnt\"]\n",
    "    "
   ]
  },
  {
   "cell_type": "code",
   "execution_count": 108,
   "id": "8f17cc6f",
   "metadata": {},
   "outputs": [
    {
     "data": {
      "text/plain": [
       "3    1117\n",
       "2    1033\n",
       "1     966\n",
       "4     850\n",
       "0     693\n",
       "5     569\n",
       "6     284\n",
       "Name: cnt, dtype: int64"
      ]
     },
     "execution_count": 108,
     "metadata": {},
     "output_type": "execute_result"
    }
   ],
   "source": [
    "df_Q1[\"cnt\"].value_counts()"
   ]
  },
  {
   "cell_type": "code",
   "execution_count": 26,
   "id": "19fab83d",
   "metadata": {},
   "outputs": [
    {
     "data": {
      "text/plain": [
       "3.4"
      ]
     },
     "execution_count": 26,
     "metadata": {},
     "output_type": "execute_result"
    }
   ],
   "source": [
    "round(966/284, 1)"
   ]
  },
  {
   "cell_type": "markdown",
   "id": "f8bb7f9f",
   "metadata": {},
   "source": [
    "# Q2"
   ]
  },
  {
   "cell_type": "code",
   "execution_count": 29,
   "id": "f16ef9fd",
   "metadata": {},
   "outputs": [],
   "source": [
    "import pandas as pd\n",
    "df = pd.read_csv(\"galaxy_users.csv\")"
   ]
  },
  {
   "cell_type": "code",
   "execution_count": 30,
   "id": "2cd9ee28",
   "metadata": {},
   "outputs": [
    {
     "data": {
      "text/plain": [
       "Index(['customerID', 'gender', 'SeniorCitizen', 'Partner', 'Dependents',\n",
       "       'tenure', 'PhoneService', 'MultipleLines', 'InternetService',\n",
       "       'OnlineSecurity', 'OnlineBackup', 'DeviceProtection', 'TechSupport',\n",
       "       'StreamingTV', 'StreamingMovies', 'Contract', 'PaperlessBilling',\n",
       "       'PaymentMethod', 'MonthlyCharges', 'TotalCharges', 'Churn'],\n",
       "      dtype='object')"
      ]
     },
     "execution_count": 30,
     "metadata": {},
     "output_type": "execute_result"
    }
   ],
   "source": [
    "df.columns"
   ]
  },
  {
   "cell_type": "code",
   "execution_count": 109,
   "id": "427db397",
   "metadata": {},
   "outputs": [],
   "source": [
    "df_Q2 = df.copy()"
   ]
  },
  {
   "cell_type": "markdown",
   "id": "37c06a5b",
   "metadata": {},
   "source": [
    "## 몫은 //로 처리해야 한다. "
   ]
  },
  {
   "cell_type": "code",
   "execution_count": 117,
   "id": "b89bc202",
   "metadata": {},
   "outputs": [],
   "source": [
    "df_Q2[\"통신사 사용 월수\"] = df_Q2[\"TotalCharges\"] // df_Q2[\"MonthlyCharges\"] "
   ]
  },
  {
   "cell_type": "code",
   "execution_count": 118,
   "id": "661bd827",
   "metadata": {},
   "outputs": [
    {
     "data": {
      "text/plain": [
       "0        1.0\n",
       "1       33.0\n",
       "2        2.0\n",
       "3       43.0\n",
       "4        2.0\n",
       "        ... \n",
       "7027    23.0\n",
       "7028    71.0\n",
       "7029    11.0\n",
       "7030     4.0\n",
       "7031    64.0\n",
       "Name: 통신사 사용 월수, Length: 7032, dtype: float64"
      ]
     },
     "execution_count": 118,
     "metadata": {},
     "output_type": "execute_result"
    }
   ],
   "source": [
    "df_Q2[\"통신사 사용 월수\"]"
   ]
  },
  {
   "cell_type": "code",
   "execution_count": 120,
   "id": "897713b5",
   "metadata": {},
   "outputs": [
    {
     "data": {
      "text/html": [
       "<div>\n",
       "<style scoped>\n",
       "    .dataframe tbody tr th:only-of-type {\n",
       "        vertical-align: middle;\n",
       "    }\n",
       "\n",
       "    .dataframe tbody tr th {\n",
       "        vertical-align: top;\n",
       "    }\n",
       "\n",
       "    .dataframe thead th {\n",
       "        text-align: right;\n",
       "    }\n",
       "</style>\n",
       "<table border=\"1\" class=\"dataframe\">\n",
       "  <thead>\n",
       "    <tr style=\"text-align: right;\">\n",
       "      <th></th>\n",
       "      <th>tenure</th>\n",
       "      <th>MonthlyCharges</th>\n",
       "      <th>통신사 사용 월수</th>\n",
       "    </tr>\n",
       "  </thead>\n",
       "  <tbody>\n",
       "    <tr>\n",
       "      <th>tenure</th>\n",
       "      <td>1.000</td>\n",
       "      <td>0.247</td>\n",
       "      <td>0.999</td>\n",
       "    </tr>\n",
       "    <tr>\n",
       "      <th>MonthlyCharges</th>\n",
       "      <td>0.247</td>\n",
       "      <td>1.000</td>\n",
       "      <td>0.246</td>\n",
       "    </tr>\n",
       "    <tr>\n",
       "      <th>통신사 사용 월수</th>\n",
       "      <td>0.999</td>\n",
       "      <td>0.246</td>\n",
       "      <td>1.000</td>\n",
       "    </tr>\n",
       "  </tbody>\n",
       "</table>\n",
       "</div>"
      ],
      "text/plain": [
       "                tenure  MonthlyCharges  통신사 사용 월수\n",
       "tenure           1.000           0.247      0.999\n",
       "MonthlyCharges   0.247           1.000      0.246\n",
       "통신사 사용 월수        0.999           0.246      1.000"
      ]
     },
     "execution_count": 120,
     "metadata": {},
     "output_type": "execute_result"
    }
   ],
   "source": [
    "df_Q2[[\"tenure\",\"MonthlyCharges\",\"통신사 사용 월수\"]].corr().abs().round(3)"
   ]
  },
  {
   "cell_type": "code",
   "execution_count": 112,
   "id": "0f45a907",
   "metadata": {},
   "outputs": [
    {
     "data": {
      "text/plain": [
       "0.999"
      ]
     },
     "execution_count": 112,
     "metadata": {},
     "output_type": "execute_result"
    }
   ],
   "source": [
    "round(0.998831, 3)"
   ]
  },
  {
   "cell_type": "markdown",
   "id": "31e7de4d",
   "metadata": {},
   "source": [
    "# Q3"
   ]
  },
  {
   "cell_type": "code",
   "execution_count": 53,
   "id": "1ad8faef",
   "metadata": {},
   "outputs": [
    {
     "data": {
      "text/plain": [
       "Index(['customerID', 'gender', 'SeniorCitizen', 'Partner', 'Dependents',\n",
       "       'tenure', 'PhoneService', 'MultipleLines', 'InternetService',\n",
       "       'OnlineSecurity', 'OnlineBackup', 'DeviceProtection', 'TechSupport',\n",
       "       'StreamingTV', 'StreamingMovies', 'Contract', 'PaperlessBilling',\n",
       "       'PaymentMethod', 'MonthlyCharges', 'TotalCharges', 'Churn'],\n",
       "      dtype='object')"
      ]
     },
     "execution_count": 53,
     "metadata": {},
     "output_type": "execute_result"
    }
   ],
   "source": [
    "df_Q3 = df.copy()\n",
    "df_Q3.columns"
   ]
  },
  {
   "cell_type": "markdown",
   "id": "efc43952",
   "metadata": {},
   "source": [
    "```\n",
    "독립변수\n",
    "시니어 여부           \"SeniorCitizen\"   -- 1,0\n",
    "파트너 존재 여부      \"Partner\"         -- Yes, No\n",
    "부양가족 존재 여부    \"Dependents\"      -- Yes, No \n",
    "현 직장 근속 개월 수  \"tenure\"         -- int\n",
    "월별 청구 금액        \"MonthlyCharges\"  -- float\n",
    "누적 청구 금액        \"TotalCharges\"    -- float\n",
    "온라인 보안 서비스    \"OnlineSecurity\"   -- Yes, No\n",
    "온라인 백업 서비스    \"OnlineBackup\"     -- Yes, No\n",
    "기기 보호 서비스      \"DeviceProtection\"  -- Yes, No\n",
    "기술 지원 서비스      \"TechSupport\"       -- Yes, No\n",
    "영화 스트리밍 서비스     \"StreamingMovies\"  -- Yes, No\n",
    "온라인 명세서 발급 서비스  \"PaperlessBilling\"  -- Yes, No \n",
    "\n",
    "종속 변수\n",
    "고객 이탈 여부           \"Churn\"  -- Yes(이탈), No(잔존)\n",
    "```"
   ]
  },
  {
   "cell_type": "code",
   "execution_count": 84,
   "id": "afcd65a0",
   "metadata": {},
   "outputs": [],
   "source": [
    "indep_l = [\"SeniorCitizen\",\"Partner\",\"Dependents\",\"tenure\",\"MonthlyCharges\",\"TotalCharges\"\n",
    "          , \"OnlineSecurity\",\"OnlineBackup\", \"DeviceProtection\", \"TechSupport\", \"StreamingMovies\",\n",
    "          \"PaperlessBilling\"]\n",
    "dfp_l = \"Churn\" \n",
    "\n",
    "all_l = [\"SeniorCitizen\",\"Partner\",\"Dependents\",\"tenure\",\"MonthlyCharges\",\"TotalCharges\"\n",
    "          , \"OnlineSecurity\",\"OnlineBackup\", \"DeviceProtection\", \"TechSupport\", \"StreamingMovies\",\n",
    "          \"PaperlessBilling\", \"Churn\" ]"
   ]
  },
  {
   "cell_type": "markdown",
   "id": "5a5891c5",
   "metadata": {},
   "source": [
    "### 사용 팁\n",
    "indep_l = [\"SeniorCitizen\",\"Partner\",\"Dependents\",\"tenure\",\"MonthlyCharges\",\"TotalCharges\"\n",
    "          , \"OnlineSecurity\",\"OnlineBackup\", \"DeviceProtection\", \"TechSupport\", \"StreamingMovies\",\n",
    "          \"PaperlessBilling\"]    \n",
    "dep_l = [\"Churn\" ]\n",
    "\n",
    "df[dep_l + indep_l]"
   ]
  },
  {
   "cell_type": "code",
   "execution_count": 122,
   "id": "91a9e0b3",
   "metadata": {},
   "outputs": [],
   "source": [
    "# df_Q3[\"Partner\"]"
   ]
  },
  {
   "cell_type": "markdown",
   "id": "adca545b",
   "metadata": {},
   "source": [
    "## 사용팁 \n",
    "df_q3 = df_q3.replace({\"Yes\":1, \"No\":0})    \n",
    "df_q3 = df_q3.replace({\"No internet service\": -1})    (여러개 넣어도 된다. replace는 )\n",
    "\n",
    "df_q3_cat = df_q3.select_dtypes(exclude = \"number\")    \n",
    "df_q3_cat.head(2)  \n",
    "\n",
    "df_q3_cat.apply(lambda x: x.unique())  #각 column별 unique를 볼수 있다."
   ]
  },
  {
   "cell_type": "code",
   "execution_count": 88,
   "id": "e7fc236d",
   "metadata": {},
   "outputs": [],
   "source": [
    "ll = [\"Partner\",\"Dependents\", \"OnlineSecurity\",\"OnlineBackup\", \"DeviceProtection\", \"TechSupport\", \"StreamingMovies\", \"PaperlessBilling\", \"Churn\"]\n",
    "\n",
    "def change(x):\n",
    "    if(x == \"Yes\"):\n",
    "        return 1\n",
    "    elif(x == \"No\"):\n",
    "        return 0\n",
    "    else:\n",
    "        return -1\n",
    "    \n",
    "for n in ll:\n",
    "    df_Q3[n] = df_Q3[n].apply(change)"
   ]
  },
  {
   "cell_type": "code",
   "execution_count": 89,
   "id": "a738aed2",
   "metadata": {},
   "outputs": [
    {
     "data": {
      "text/plain": [
       "(7032, 21)"
      ]
     },
     "execution_count": 89,
     "metadata": {},
     "output_type": "execute_result"
    }
   ],
   "source": [
    "df_Q3.shape"
   ]
  },
  {
   "cell_type": "code",
   "execution_count": 90,
   "id": "0c39b3ae",
   "metadata": {},
   "outputs": [],
   "source": [
    "from sklearn.preprocessing import MinMaxScaler\n",
    "from sklearn.model_selection import train_test_split\n",
    "from sklearn.linear_model import LogisticRegression\n",
    "from sklearn.metrics import f1_score"
   ]
  },
  {
   "cell_type": "code",
   "execution_count": 123,
   "id": "73bda671",
   "metadata": {},
   "outputs": [
    {
     "data": {
      "text/plain": [
       "(4922, 2110)"
      ]
     },
     "execution_count": 123,
     "metadata": {},
     "output_type": "execute_result"
    }
   ],
   "source": [
    "train, test = train_test_split(df_Q3, train_size= 0.7, random_state=123)\n",
    "len(train), len(test)"
   ]
  },
  {
   "cell_type": "code",
   "execution_count": 92,
   "id": "14595a72",
   "metadata": {},
   "outputs": [],
   "source": [
    "MM = MinMaxScaler().fit(train[all_l])"
   ]
  },
  {
   "cell_type": "code",
   "execution_count": 124,
   "id": "653ebf08",
   "metadata": {
    "collapsed": true
   },
   "outputs": [
    {
     "data": {
      "text/plain": [
       "array([ 1.0000e+00, -1.0000e+00, -1.0000e+00,  7.2000e+01,  1.1875e+02,\n",
       "        8.6848e+03, -1.0000e+00, -1.0000e+00, -1.0000e+00, -1.0000e+00,\n",
       "       -1.0000e+00, -1.0000e+00,  1.0000e+00])"
      ]
     },
     "execution_count": 124,
     "metadata": {},
     "output_type": "execute_result"
    }
   ],
   "source": [
    "MM.data_max_"
   ]
  },
  {
   "cell_type": "code",
   "execution_count": 125,
   "id": "1b273c42",
   "metadata": {
    "collapsed": true
   },
   "outputs": [
    {
     "data": {
      "text/plain": [
       "array([ 0. , -1. , -1. ,  1. , 18.4, 18.8, -1. , -1. , -1. , -1. , -1. ,\n",
       "       -1. ,  0. ])"
      ]
     },
     "execution_count": 125,
     "metadata": {},
     "output_type": "execute_result"
    }
   ],
   "source": [
    "MM.data_min_"
   ]
  },
  {
   "cell_type": "code",
   "execution_count": 126,
   "id": "89e22cdb",
   "metadata": {
    "collapsed": true
   },
   "outputs": [
    {
     "data": {
      "text/plain": [
       "array([1.0000e+00, 0.0000e+00, 0.0000e+00, 7.1000e+01, 1.0035e+02,\n",
       "       8.6660e+03, 0.0000e+00, 0.0000e+00, 0.0000e+00, 0.0000e+00,\n",
       "       0.0000e+00, 0.0000e+00, 1.0000e+00])"
      ]
     },
     "execution_count": 126,
     "metadata": {},
     "output_type": "execute_result"
    }
   ],
   "source": [
    "MM.data_range_"
   ]
  },
  {
   "cell_type": "code",
   "execution_count": 93,
   "id": "e1c49264",
   "metadata": {},
   "outputs": [],
   "source": [
    "train_mm = MM.transform(train[all_l])"
   ]
  },
  {
   "cell_type": "code",
   "execution_count": 95,
   "id": "178d700e",
   "metadata": {},
   "outputs": [],
   "source": [
    "train_mm = pd.DataFrame(train_mm, columns=all_l)"
   ]
  },
  {
   "cell_type": "code",
   "execution_count": 96,
   "id": "6530d350",
   "metadata": {},
   "outputs": [
    {
     "data": {
      "text/html": [
       "<div>\n",
       "<style scoped>\n",
       "    .dataframe tbody tr th:only-of-type {\n",
       "        vertical-align: middle;\n",
       "    }\n",
       "\n",
       "    .dataframe tbody tr th {\n",
       "        vertical-align: top;\n",
       "    }\n",
       "\n",
       "    .dataframe thead th {\n",
       "        text-align: right;\n",
       "    }\n",
       "</style>\n",
       "<table border=\"1\" class=\"dataframe\">\n",
       "  <thead>\n",
       "    <tr style=\"text-align: right;\">\n",
       "      <th></th>\n",
       "      <th>SeniorCitizen</th>\n",
       "      <th>Partner</th>\n",
       "      <th>Dependents</th>\n",
       "      <th>tenure</th>\n",
       "      <th>MonthlyCharges</th>\n",
       "      <th>TotalCharges</th>\n",
       "      <th>OnlineSecurity</th>\n",
       "      <th>OnlineBackup</th>\n",
       "      <th>DeviceProtection</th>\n",
       "      <th>TechSupport</th>\n",
       "      <th>StreamingMovies</th>\n",
       "      <th>PaperlessBilling</th>\n",
       "      <th>Churn</th>\n",
       "    </tr>\n",
       "  </thead>\n",
       "  <tbody>\n",
       "    <tr>\n",
       "      <th>0</th>\n",
       "      <td>0.0</td>\n",
       "      <td>0.0</td>\n",
       "      <td>0.0</td>\n",
       "      <td>0.084507</td>\n",
       "      <td>0.811161</td>\n",
       "      <td>0.075519</td>\n",
       "      <td>0.0</td>\n",
       "      <td>0.0</td>\n",
       "      <td>0.0</td>\n",
       "      <td>0.0</td>\n",
       "      <td>0.0</td>\n",
       "      <td>0.0</td>\n",
       "      <td>1.0</td>\n",
       "    </tr>\n",
       "    <tr>\n",
       "      <th>1</th>\n",
       "      <td>0.0</td>\n",
       "      <td>0.0</td>\n",
       "      <td>0.0</td>\n",
       "      <td>0.000000</td>\n",
       "      <td>0.607374</td>\n",
       "      <td>0.006987</td>\n",
       "      <td>0.0</td>\n",
       "      <td>0.0</td>\n",
       "      <td>0.0</td>\n",
       "      <td>0.0</td>\n",
       "      <td>0.0</td>\n",
       "      <td>0.0</td>\n",
       "      <td>1.0</td>\n",
       "    </tr>\n",
       "    <tr>\n",
       "      <th>2</th>\n",
       "      <td>0.0</td>\n",
       "      <td>0.0</td>\n",
       "      <td>0.0</td>\n",
       "      <td>0.366197</td>\n",
       "      <td>0.304933</td>\n",
       "      <td>0.146844</td>\n",
       "      <td>0.0</td>\n",
       "      <td>0.0</td>\n",
       "      <td>0.0</td>\n",
       "      <td>0.0</td>\n",
       "      <td>0.0</td>\n",
       "      <td>0.0</td>\n",
       "      <td>0.0</td>\n",
       "    </tr>\n",
       "    <tr>\n",
       "      <th>3</th>\n",
       "      <td>1.0</td>\n",
       "      <td>0.0</td>\n",
       "      <td>0.0</td>\n",
       "      <td>0.647887</td>\n",
       "      <td>0.519681</td>\n",
       "      <td>0.379697</td>\n",
       "      <td>0.0</td>\n",
       "      <td>0.0</td>\n",
       "      <td>0.0</td>\n",
       "      <td>0.0</td>\n",
       "      <td>0.0</td>\n",
       "      <td>0.0</td>\n",
       "      <td>1.0</td>\n",
       "    </tr>\n",
       "    <tr>\n",
       "      <th>4</th>\n",
       "      <td>0.0</td>\n",
       "      <td>0.0</td>\n",
       "      <td>0.0</td>\n",
       "      <td>1.000000</td>\n",
       "      <td>0.063777</td>\n",
       "      <td>0.214113</td>\n",
       "      <td>0.0</td>\n",
       "      <td>0.0</td>\n",
       "      <td>0.0</td>\n",
       "      <td>0.0</td>\n",
       "      <td>0.0</td>\n",
       "      <td>0.0</td>\n",
       "      <td>0.0</td>\n",
       "    </tr>\n",
       "    <tr>\n",
       "      <th>...</th>\n",
       "      <td>...</td>\n",
       "      <td>...</td>\n",
       "      <td>...</td>\n",
       "      <td>...</td>\n",
       "      <td>...</td>\n",
       "      <td>...</td>\n",
       "      <td>...</td>\n",
       "      <td>...</td>\n",
       "      <td>...</td>\n",
       "      <td>...</td>\n",
       "      <td>...</td>\n",
       "      <td>...</td>\n",
       "      <td>...</td>\n",
       "    </tr>\n",
       "    <tr>\n",
       "      <th>4917</th>\n",
       "      <td>0.0</td>\n",
       "      <td>0.0</td>\n",
       "      <td>0.0</td>\n",
       "      <td>0.084507</td>\n",
       "      <td>0.775286</td>\n",
       "      <td>0.071648</td>\n",
       "      <td>0.0</td>\n",
       "      <td>0.0</td>\n",
       "      <td>0.0</td>\n",
       "      <td>0.0</td>\n",
       "      <td>0.0</td>\n",
       "      <td>0.0</td>\n",
       "      <td>0.0</td>\n",
       "    </tr>\n",
       "    <tr>\n",
       "      <th>4918</th>\n",
       "      <td>0.0</td>\n",
       "      <td>0.0</td>\n",
       "      <td>0.0</td>\n",
       "      <td>0.943662</td>\n",
       "      <td>0.609865</td>\n",
       "      <td>0.634318</td>\n",
       "      <td>0.0</td>\n",
       "      <td>0.0</td>\n",
       "      <td>0.0</td>\n",
       "      <td>0.0</td>\n",
       "      <td>0.0</td>\n",
       "      <td>0.0</td>\n",
       "      <td>0.0</td>\n",
       "    </tr>\n",
       "    <tr>\n",
       "      <th>4919</th>\n",
       "      <td>0.0</td>\n",
       "      <td>0.0</td>\n",
       "      <td>0.0</td>\n",
       "      <td>0.140845</td>\n",
       "      <td>0.020429</td>\n",
       "      <td>0.026771</td>\n",
       "      <td>0.0</td>\n",
       "      <td>0.0</td>\n",
       "      <td>0.0</td>\n",
       "      <td>0.0</td>\n",
       "      <td>0.0</td>\n",
       "      <td>0.0</td>\n",
       "      <td>0.0</td>\n",
       "    </tr>\n",
       "    <tr>\n",
       "      <th>4920</th>\n",
       "      <td>0.0</td>\n",
       "      <td>0.0</td>\n",
       "      <td>0.0</td>\n",
       "      <td>0.661972</td>\n",
       "      <td>0.813652</td>\n",
       "      <td>0.555643</td>\n",
       "      <td>0.0</td>\n",
       "      <td>0.0</td>\n",
       "      <td>0.0</td>\n",
       "      <td>0.0</td>\n",
       "      <td>0.0</td>\n",
       "      <td>0.0</td>\n",
       "      <td>0.0</td>\n",
       "    </tr>\n",
       "    <tr>\n",
       "      <th>4921</th>\n",
       "      <td>0.0</td>\n",
       "      <td>0.0</td>\n",
       "      <td>0.0</td>\n",
       "      <td>0.112676</td>\n",
       "      <td>0.504733</td>\n",
       "      <td>0.073292</td>\n",
       "      <td>0.0</td>\n",
       "      <td>0.0</td>\n",
       "      <td>0.0</td>\n",
       "      <td>0.0</td>\n",
       "      <td>0.0</td>\n",
       "      <td>0.0</td>\n",
       "      <td>0.0</td>\n",
       "    </tr>\n",
       "  </tbody>\n",
       "</table>\n",
       "<p>4922 rows × 13 columns</p>\n",
       "</div>"
      ],
      "text/plain": [
       "      SeniorCitizen  Partner  Dependents    tenure  MonthlyCharges  \\\n",
       "0               0.0      0.0         0.0  0.084507        0.811161   \n",
       "1               0.0      0.0         0.0  0.000000        0.607374   \n",
       "2               0.0      0.0         0.0  0.366197        0.304933   \n",
       "3               1.0      0.0         0.0  0.647887        0.519681   \n",
       "4               0.0      0.0         0.0  1.000000        0.063777   \n",
       "...             ...      ...         ...       ...             ...   \n",
       "4917            0.0      0.0         0.0  0.084507        0.775286   \n",
       "4918            0.0      0.0         0.0  0.943662        0.609865   \n",
       "4919            0.0      0.0         0.0  0.140845        0.020429   \n",
       "4920            0.0      0.0         0.0  0.661972        0.813652   \n",
       "4921            0.0      0.0         0.0  0.112676        0.504733   \n",
       "\n",
       "      TotalCharges  OnlineSecurity  OnlineBackup  DeviceProtection  \\\n",
       "0         0.075519             0.0           0.0               0.0   \n",
       "1         0.006987             0.0           0.0               0.0   \n",
       "2         0.146844             0.0           0.0               0.0   \n",
       "3         0.379697             0.0           0.0               0.0   \n",
       "4         0.214113             0.0           0.0               0.0   \n",
       "...            ...             ...           ...               ...   \n",
       "4917      0.071648             0.0           0.0               0.0   \n",
       "4918      0.634318             0.0           0.0               0.0   \n",
       "4919      0.026771             0.0           0.0               0.0   \n",
       "4920      0.555643             0.0           0.0               0.0   \n",
       "4921      0.073292             0.0           0.0               0.0   \n",
       "\n",
       "      TechSupport  StreamingMovies  PaperlessBilling  Churn  \n",
       "0             0.0              0.0               0.0    1.0  \n",
       "1             0.0              0.0               0.0    1.0  \n",
       "2             0.0              0.0               0.0    0.0  \n",
       "3             0.0              0.0               0.0    1.0  \n",
       "4             0.0              0.0               0.0    0.0  \n",
       "...           ...              ...               ...    ...  \n",
       "4917          0.0              0.0               0.0    0.0  \n",
       "4918          0.0              0.0               0.0    0.0  \n",
       "4919          0.0              0.0               0.0    0.0  \n",
       "4920          0.0              0.0               0.0    0.0  \n",
       "4921          0.0              0.0               0.0    0.0  \n",
       "\n",
       "[4922 rows x 13 columns]"
      ]
     },
     "execution_count": 96,
     "metadata": {},
     "output_type": "execute_result"
    }
   ],
   "source": [
    "train_mm"
   ]
  },
  {
   "cell_type": "code",
   "execution_count": 97,
   "id": "4a4f8c4b",
   "metadata": {},
   "outputs": [],
   "source": [
    "test_mm = MM.transform(test[all_l])"
   ]
  },
  {
   "cell_type": "code",
   "execution_count": 98,
   "id": "ea662a05",
   "metadata": {},
   "outputs": [],
   "source": [
    "test_mm = pd.DataFrame(test_mm, columns=all_l)"
   ]
  },
  {
   "cell_type": "code",
   "execution_count": 99,
   "id": "b6098010",
   "metadata": {},
   "outputs": [
    {
     "data": {
      "text/html": [
       "<div>\n",
       "<style scoped>\n",
       "    .dataframe tbody tr th:only-of-type {\n",
       "        vertical-align: middle;\n",
       "    }\n",
       "\n",
       "    .dataframe tbody tr th {\n",
       "        vertical-align: top;\n",
       "    }\n",
       "\n",
       "    .dataframe thead th {\n",
       "        text-align: right;\n",
       "    }\n",
       "</style>\n",
       "<table border=\"1\" class=\"dataframe\">\n",
       "  <thead>\n",
       "    <tr style=\"text-align: right;\">\n",
       "      <th></th>\n",
       "      <th>SeniorCitizen</th>\n",
       "      <th>Partner</th>\n",
       "      <th>Dependents</th>\n",
       "      <th>tenure</th>\n",
       "      <th>MonthlyCharges</th>\n",
       "      <th>TotalCharges</th>\n",
       "      <th>OnlineSecurity</th>\n",
       "      <th>OnlineBackup</th>\n",
       "      <th>DeviceProtection</th>\n",
       "      <th>TechSupport</th>\n",
       "      <th>StreamingMovies</th>\n",
       "      <th>PaperlessBilling</th>\n",
       "      <th>Churn</th>\n",
       "    </tr>\n",
       "  </thead>\n",
       "  <tbody>\n",
       "    <tr>\n",
       "      <th>0</th>\n",
       "      <td>0.0</td>\n",
       "      <td>0.0</td>\n",
       "      <td>0.0</td>\n",
       "      <td>0.478873</td>\n",
       "      <td>0.017937</td>\n",
       "      <td>0.076806</td>\n",
       "      <td>0.0</td>\n",
       "      <td>0.0</td>\n",
       "      <td>0.0</td>\n",
       "      <td>0.0</td>\n",
       "      <td>0.0</td>\n",
       "      <td>0.0</td>\n",
       "      <td>0.0</td>\n",
       "    </tr>\n",
       "    <tr>\n",
       "      <th>1</th>\n",
       "      <td>0.0</td>\n",
       "      <td>0.0</td>\n",
       "      <td>0.0</td>\n",
       "      <td>0.239437</td>\n",
       "      <td>0.572995</td>\n",
       "      <td>0.156272</td>\n",
       "      <td>0.0</td>\n",
       "      <td>0.0</td>\n",
       "      <td>0.0</td>\n",
       "      <td>0.0</td>\n",
       "      <td>0.0</td>\n",
       "      <td>0.0</td>\n",
       "      <td>0.0</td>\n",
       "    </tr>\n",
       "    <tr>\n",
       "      <th>2</th>\n",
       "      <td>1.0</td>\n",
       "      <td>0.0</td>\n",
       "      <td>0.0</td>\n",
       "      <td>0.901408</td>\n",
       "      <td>0.844544</td>\n",
       "      <td>0.781635</td>\n",
       "      <td>0.0</td>\n",
       "      <td>0.0</td>\n",
       "      <td>0.0</td>\n",
       "      <td>0.0</td>\n",
       "      <td>0.0</td>\n",
       "      <td>0.0</td>\n",
       "      <td>0.0</td>\n",
       "    </tr>\n",
       "    <tr>\n",
       "      <th>3</th>\n",
       "      <td>0.0</td>\n",
       "      <td>0.0</td>\n",
       "      <td>0.0</td>\n",
       "      <td>0.676056</td>\n",
       "      <td>0.377678</td>\n",
       "      <td>0.318694</td>\n",
       "      <td>0.0</td>\n",
       "      <td>0.0</td>\n",
       "      <td>0.0</td>\n",
       "      <td>0.0</td>\n",
       "      <td>0.0</td>\n",
       "      <td>0.0</td>\n",
       "      <td>0.0</td>\n",
       "    </tr>\n",
       "    <tr>\n",
       "      <th>4</th>\n",
       "      <td>0.0</td>\n",
       "      <td>0.0</td>\n",
       "      <td>0.0</td>\n",
       "      <td>0.507042</td>\n",
       "      <td>0.808171</td>\n",
       "      <td>0.431941</td>\n",
       "      <td>0.0</td>\n",
       "      <td>0.0</td>\n",
       "      <td>0.0</td>\n",
       "      <td>0.0</td>\n",
       "      <td>0.0</td>\n",
       "      <td>0.0</td>\n",
       "      <td>1.0</td>\n",
       "    </tr>\n",
       "    <tr>\n",
       "      <th>...</th>\n",
       "      <td>...</td>\n",
       "      <td>...</td>\n",
       "      <td>...</td>\n",
       "      <td>...</td>\n",
       "      <td>...</td>\n",
       "      <td>...</td>\n",
       "      <td>...</td>\n",
       "      <td>...</td>\n",
       "      <td>...</td>\n",
       "      <td>...</td>\n",
       "      <td>...</td>\n",
       "      <td>...</td>\n",
       "      <td>...</td>\n",
       "    </tr>\n",
       "    <tr>\n",
       "      <th>2105</th>\n",
       "      <td>1.0</td>\n",
       "      <td>0.0</td>\n",
       "      <td>0.0</td>\n",
       "      <td>0.985915</td>\n",
       "      <td>0.805182</td>\n",
       "      <td>0.830250</td>\n",
       "      <td>0.0</td>\n",
       "      <td>0.0</td>\n",
       "      <td>0.0</td>\n",
       "      <td>0.0</td>\n",
       "      <td>0.0</td>\n",
       "      <td>0.0</td>\n",
       "      <td>0.0</td>\n",
       "    </tr>\n",
       "    <tr>\n",
       "      <th>2106</th>\n",
       "      <td>0.0</td>\n",
       "      <td>0.0</td>\n",
       "      <td>0.0</td>\n",
       "      <td>0.028169</td>\n",
       "      <td>0.550075</td>\n",
       "      <td>0.024660</td>\n",
       "      <td>0.0</td>\n",
       "      <td>0.0</td>\n",
       "      <td>0.0</td>\n",
       "      <td>0.0</td>\n",
       "      <td>0.0</td>\n",
       "      <td>0.0</td>\n",
       "      <td>0.0</td>\n",
       "    </tr>\n",
       "    <tr>\n",
       "      <th>2107</th>\n",
       "      <td>0.0</td>\n",
       "      <td>0.0</td>\n",
       "      <td>0.0</td>\n",
       "      <td>0.028169</td>\n",
       "      <td>0.019930</td>\n",
       "      <td>0.005118</td>\n",
       "      <td>0.0</td>\n",
       "      <td>0.0</td>\n",
       "      <td>0.0</td>\n",
       "      <td>0.0</td>\n",
       "      <td>0.0</td>\n",
       "      <td>0.0</td>\n",
       "      <td>0.0</td>\n",
       "    </tr>\n",
       "    <tr>\n",
       "      <th>2108</th>\n",
       "      <td>0.0</td>\n",
       "      <td>0.0</td>\n",
       "      <td>0.0</td>\n",
       "      <td>0.084507</td>\n",
       "      <td>0.018435</td>\n",
       "      <td>0.012734</td>\n",
       "      <td>0.0</td>\n",
       "      <td>0.0</td>\n",
       "      <td>0.0</td>\n",
       "      <td>0.0</td>\n",
       "      <td>0.0</td>\n",
       "      <td>0.0</td>\n",
       "      <td>0.0</td>\n",
       "    </tr>\n",
       "    <tr>\n",
       "      <th>2109</th>\n",
       "      <td>0.0</td>\n",
       "      <td>0.0</td>\n",
       "      <td>0.0</td>\n",
       "      <td>0.633803</td>\n",
       "      <td>0.008470</td>\n",
       "      <td>0.097554</td>\n",
       "      <td>0.0</td>\n",
       "      <td>0.0</td>\n",
       "      <td>0.0</td>\n",
       "      <td>0.0</td>\n",
       "      <td>0.0</td>\n",
       "      <td>0.0</td>\n",
       "      <td>0.0</td>\n",
       "    </tr>\n",
       "  </tbody>\n",
       "</table>\n",
       "<p>2110 rows × 13 columns</p>\n",
       "</div>"
      ],
      "text/plain": [
       "      SeniorCitizen  Partner  Dependents    tenure  MonthlyCharges  \\\n",
       "0               0.0      0.0         0.0  0.478873        0.017937   \n",
       "1               0.0      0.0         0.0  0.239437        0.572995   \n",
       "2               1.0      0.0         0.0  0.901408        0.844544   \n",
       "3               0.0      0.0         0.0  0.676056        0.377678   \n",
       "4               0.0      0.0         0.0  0.507042        0.808171   \n",
       "...             ...      ...         ...       ...             ...   \n",
       "2105            1.0      0.0         0.0  0.985915        0.805182   \n",
       "2106            0.0      0.0         0.0  0.028169        0.550075   \n",
       "2107            0.0      0.0         0.0  0.028169        0.019930   \n",
       "2108            0.0      0.0         0.0  0.084507        0.018435   \n",
       "2109            0.0      0.0         0.0  0.633803        0.008470   \n",
       "\n",
       "      TotalCharges  OnlineSecurity  OnlineBackup  DeviceProtection  \\\n",
       "0         0.076806             0.0           0.0               0.0   \n",
       "1         0.156272             0.0           0.0               0.0   \n",
       "2         0.781635             0.0           0.0               0.0   \n",
       "3         0.318694             0.0           0.0               0.0   \n",
       "4         0.431941             0.0           0.0               0.0   \n",
       "...            ...             ...           ...               ...   \n",
       "2105      0.830250             0.0           0.0               0.0   \n",
       "2106      0.024660             0.0           0.0               0.0   \n",
       "2107      0.005118             0.0           0.0               0.0   \n",
       "2108      0.012734             0.0           0.0               0.0   \n",
       "2109      0.097554             0.0           0.0               0.0   \n",
       "\n",
       "      TechSupport  StreamingMovies  PaperlessBilling  Churn  \n",
       "0             0.0              0.0               0.0    0.0  \n",
       "1             0.0              0.0               0.0    0.0  \n",
       "2             0.0              0.0               0.0    0.0  \n",
       "3             0.0              0.0               0.0    0.0  \n",
       "4             0.0              0.0               0.0    1.0  \n",
       "...           ...              ...               ...    ...  \n",
       "2105          0.0              0.0               0.0    0.0  \n",
       "2106          0.0              0.0               0.0    0.0  \n",
       "2107          0.0              0.0               0.0    0.0  \n",
       "2108          0.0              0.0               0.0    0.0  \n",
       "2109          0.0              0.0               0.0    0.0  \n",
       "\n",
       "[2110 rows x 13 columns]"
      ]
     },
     "execution_count": 99,
     "metadata": {},
     "output_type": "execute_result"
    }
   ],
   "source": [
    "test_mm"
   ]
  },
  {
   "cell_type": "code",
   "execution_count": 127,
   "id": "4187d0bc",
   "metadata": {},
   "outputs": [],
   "source": [
    "model = LogisticRegression(random_state=123).fit(X=train_mm[indep_l], y = train_mm[dfp_l])"
   ]
  },
  {
   "cell_type": "code",
   "execution_count": 128,
   "id": "77de8060",
   "metadata": {},
   "outputs": [],
   "source": [
    "pred = model.predict(X=test_mm[indep_l])"
   ]
  },
  {
   "cell_type": "code",
   "execution_count": 129,
   "id": "13105983",
   "metadata": {},
   "outputs": [
    {
     "data": {
      "text/plain": [
       "0.55"
      ]
     },
     "execution_count": 129,
     "metadata": {},
     "output_type": "execute_result"
    }
   ],
   "source": [
    "round(f1_score(y_true = test_mm[dfp_l], y_pred=pred),2)"
   ]
  }
 ],
 "metadata": {
  "kernelspec": {
   "display_name": "Python 3 (ipykernel)",
   "language": "python",
   "name": "python3"
  },
  "language_info": {
   "codemirror_mode": {
    "name": "ipython",
    "version": 3
   },
   "file_extension": ".py",
   "mimetype": "text/x-python",
   "name": "python",
   "nbconvert_exporter": "python",
   "pygments_lexer": "ipython3",
   "version": "3.9.7"
  }
 },
 "nbformat": 4,
 "nbformat_minor": 5
}
