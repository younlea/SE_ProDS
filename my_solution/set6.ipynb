{
 "cells": [
  {
   "cell_type": "code",
   "execution_count": 1,
   "id": "ccdf39ae",
   "metadata": {},
   "outputs": [],
   "source": [
    "import pandas as pd\n",
    "import numpy as np"
   ]
  },
  {
   "cell_type": "code",
   "execution_count": 2,
   "id": "984c1782",
   "metadata": {},
   "outputs": [],
   "source": [
    "df = pd.read_csv(\"edu_enrollees.csv\")"
   ]
  },
  {
   "cell_type": "code",
   "execution_count": 3,
   "id": "10600a02",
   "metadata": {},
   "outputs": [
    {
     "data": {
      "text/plain": [
       "Index(['enrollee_id', 'city', 'city_development_index', 'gender',\n",
       "       'relevant_experience', 'enrolled_university', 'education_level',\n",
       "       'major_discipline', 'experience', 'company_size', 'company_type',\n",
       "       'last_new_job', 'training_hours', 'target', 'Xgrp'],\n",
       "      dtype='object')"
      ]
     },
     "execution_count": 3,
     "metadata": {},
     "output_type": "execute_result"
    }
   ],
   "source": [
    "df.columns"
   ]
  },
  {
   "cell_type": "code",
   "execution_count": 5,
   "id": "46e2c979",
   "metadata": {},
   "outputs": [
    {
     "data": {
      "text/plain": [
       "Index(['enrollee_id', 'city_development_index', 'gender',\n",
       "       'relevant_experience', 'enrolled_university', 'education_level',\n",
       "       'major_discipline', 'experience', 'last_new_job', 'training_hours',\n",
       "       'target', 'Xgrp'],\n",
       "      dtype='object')"
      ]
     },
     "execution_count": 5,
     "metadata": {},
     "output_type": "execute_result"
    }
   ],
   "source": [
    "df1 = df.drop(columns=[\"city\",\"company_size\",\"company_type\"])\n",
    "df1.columns"
   ]
  },
  {
   "cell_type": "code",
   "execution_count": 9,
   "id": "c43f5ef2",
   "metadata": {},
   "outputs": [],
   "source": [
    "df1d = df1.dropna()"
   ]
  },
  {
   "cell_type": "code",
   "execution_count": 11,
   "id": "40d36a69",
   "metadata": {},
   "outputs": [
    {
     "data": {
      "text/plain": [
       "Index(['enrollee_id', 'city_development_index', 'gender',\n",
       "       'relevant_experience', 'enrolled_university', 'education_level',\n",
       "       'major_discipline', 'experience', 'last_new_job', 'training_hours',\n",
       "       'target', 'Xgrp'],\n",
       "      dtype='object')"
      ]
     },
     "execution_count": 11,
     "metadata": {},
     "output_type": "execute_result"
    }
   ],
   "source": [
    "df1d.columns"
   ]
  },
  {
   "cell_type": "code",
   "execution_count": 17,
   "id": "455aa5eb",
   "metadata": {
    "scrolled": true
   },
   "outputs": [
    {
     "name": "stdout",
     "output_type": "stream",
     "text": [
      "<class 'pandas.core.frame.DataFrame'>\n",
      "Int64Index: 9653 entries, 1 to 19154\n",
      "Data columns (total 12 columns):\n",
      " #   Column                  Non-Null Count  Dtype  \n",
      "---  ------                  --------------  -----  \n",
      " 0   enrollee_id             9653 non-null   float64\n",
      " 1   city_development_index  9653 non-null   float64\n",
      " 2   gender                  9653 non-null   object \n",
      " 3   relevant_experience     9653 non-null   object \n",
      " 4   enrolled_university     9653 non-null   object \n",
      " 5   education_level         9653 non-null   object \n",
      " 6   major_discipline        9653 non-null   object \n",
      " 7   experience              9653 non-null   int32  \n",
      " 8   last_new_job            9653 non-null   object \n",
      " 9   training_hours          9653 non-null   float64\n",
      " 10  target                  9653 non-null   float64\n",
      " 11  Xgrp                    9653 non-null   object \n",
      "dtypes: float64(4), int32(1), object(7)\n",
      "memory usage: 942.7+ KB\n"
     ]
    },
    {
     "name": "stderr",
     "output_type": "stream",
     "text": [
      "C:\\Users\\younl\\AppData\\Local\\Temp/ipykernel_20864/2272566391.py:2: SettingWithCopyWarning: \n",
      "A value is trying to be set on a copy of a slice from a DataFrame.\n",
      "Try using .loc[row_indexer,col_indexer] = value instead\n",
      "\n",
      "See the caveats in the documentation: https://pandas.pydata.org/pandas-docs/stable/user_guide/indexing.html#returning-a-view-versus-a-copy\n",
      "  df11[\"experience\"]=df11[\"experience\"].astype(\"int\")\n"
     ]
    }
   ],
   "source": [
    "df11 = df1d.loc[~((df1d[\"experience\"] == \">20\") | (df1d[\"experience\"] == \"<1\")),:]\n",
    "df11[\"experience\"]=df11[\"experience\"].astype(\"int\")\n",
    "df11.info()"
   ]
  },
  {
   "cell_type": "code",
   "execution_count": 19,
   "id": "7e6306c3",
   "metadata": {},
   "outputs": [
    {
     "data": {
      "text/plain": [
       "array(['>4', '1', '2', '3', 'never', '4'], dtype=object)"
      ]
     },
     "execution_count": 19,
     "metadata": {},
     "output_type": "execute_result"
    }
   ],
   "source": [
    "df11[\"last_new_job\"].unique()"
   ]
  },
  {
   "cell_type": "code",
   "execution_count": 20,
   "id": "222f6c8b",
   "metadata": {},
   "outputs": [
    {
     "name": "stdout",
     "output_type": "stream",
     "text": [
      "<class 'pandas.core.frame.DataFrame'>\n",
      "Int64Index: 7522 entries, 8 to 19154\n",
      "Data columns (total 12 columns):\n",
      " #   Column                  Non-Null Count  Dtype  \n",
      "---  ------                  --------------  -----  \n",
      " 0   enrollee_id             7522 non-null   float64\n",
      " 1   city_development_index  7522 non-null   float64\n",
      " 2   gender                  7522 non-null   object \n",
      " 3   relevant_experience     7522 non-null   object \n",
      " 4   enrolled_university     7522 non-null   object \n",
      " 5   education_level         7522 non-null   object \n",
      " 6   major_discipline        7522 non-null   object \n",
      " 7   experience              7522 non-null   int32  \n",
      " 8   last_new_job            7522 non-null   int32  \n",
      " 9   training_hours          7522 non-null   float64\n",
      " 10  target                  7522 non-null   float64\n",
      " 11  Xgrp                    7522 non-null   object \n",
      "dtypes: float64(4), int32(2), object(6)\n",
      "memory usage: 705.2+ KB\n"
     ]
    },
    {
     "name": "stderr",
     "output_type": "stream",
     "text": [
      "C:\\Users\\younl\\AppData\\Local\\Temp/ipykernel_20864/3231567107.py:2: SettingWithCopyWarning: \n",
      "A value is trying to be set on a copy of a slice from a DataFrame.\n",
      "Try using .loc[row_indexer,col_indexer] = value instead\n",
      "\n",
      "See the caveats in the documentation: https://pandas.pydata.org/pandas-docs/stable/user_guide/indexing.html#returning-a-view-versus-a-copy\n",
      "  df12[\"last_new_job\"] = df12[\"last_new_job\"].astype(\"int\")\n"
     ]
    }
   ],
   "source": [
    "df12 = df11.loc[~((df11[\"last_new_job\"] == \">4\") | (df11[\"last_new_job\"] == \"never\")),:]\n",
    "df12[\"last_new_job\"] = df12[\"last_new_job\"].astype(\"int\")\n",
    "df12.info()"
   ]
  },
  {
   "cell_type": "code",
   "execution_count": 21,
   "id": "35682df5",
   "metadata": {},
   "outputs": [
    {
     "data": {
      "text/plain": [
       "(7522, 12)"
      ]
     },
     "execution_count": 21,
     "metadata": {},
     "output_type": "execute_result"
    }
   ],
   "source": [
    "df_base = df12.copy()\n",
    "df_base.shape"
   ]
  },
  {
   "cell_type": "code",
   "execution_count": 22,
   "id": "a8389862",
   "metadata": {},
   "outputs": [],
   "source": [
    "from sklearn.linear_model import LogisticRegression\n",
    "from sklearn.neighbors import KNeighborsClassifier"
   ]
  },
  {
   "cell_type": "markdown",
   "id": "2c2c4f22",
   "metadata": {},
   "source": [
    "# Q1 "
   ]
  },
  {
   "cell_type": "code",
   "execution_count": 23,
   "id": "422bbcba",
   "metadata": {},
   "outputs": [
    {
     "data": {
      "text/plain": [
       "Index(['enrollee_id', 'city_development_index', 'gender',\n",
       "       'relevant_experience', 'enrolled_university', 'education_level',\n",
       "       'major_discipline', 'experience', 'last_new_job', 'training_hours',\n",
       "       'target', 'Xgrp'],\n",
       "      dtype='object')"
      ]
     },
     "execution_count": 23,
     "metadata": {},
     "output_type": "execute_result"
    }
   ],
   "source": [
    "df_base.columns"
   ]
  },
  {
   "cell_type": "code",
   "execution_count": 24,
   "id": "e27f75a2",
   "metadata": {},
   "outputs": [
    {
     "data": {
      "text/plain": [
       "array(['Has relevant experience', 'No relevant experience'], dtype=object)"
      ]
     },
     "execution_count": 24,
     "metadata": {},
     "output_type": "execute_result"
    }
   ],
   "source": [
    "df1[\"relevant_experience\"].unique()"
   ]
  },
  {
   "cell_type": "code",
   "execution_count": 25,
   "id": "8d89f545",
   "metadata": {},
   "outputs": [],
   "source": [
    "df1 = df_base.copy()\n",
    "df1a = df1.loc[df1[\"relevant_experience\"] == \"No relevant experience\", :]\n",
    "df1b = df1.loc[df1[\"relevant_experience\"] == \"Has relevant experience\", :]"
   ]
  },
  {
   "cell_type": "code",
   "execution_count": 26,
   "id": "87c2bc04",
   "metadata": {},
   "outputs": [
    {
     "data": {
      "text/plain": [
       "0.0    872\n",
       "1.0    541\n",
       "Name: target, dtype: int64"
      ]
     },
     "execution_count": 26,
     "metadata": {},
     "output_type": "execute_result"
    }
   ],
   "source": [
    "df1a[\"target\"].value_counts()"
   ]
  },
  {
   "cell_type": "code",
   "execution_count": 27,
   "id": "10274be9",
   "metadata": {},
   "outputs": [
    {
     "data": {
      "text/plain": [
       "0.0    4790\n",
       "1.0    1319\n",
       "Name: target, dtype: int64"
      ]
     },
     "execution_count": 27,
     "metadata": {},
     "output_type": "execute_result"
    }
   ],
   "source": [
    "df1b[\"target\"].value_counts()"
   ]
  },
  {
   "cell_type": "code",
   "execution_count": 28,
   "id": "001a9be7",
   "metadata": {},
   "outputs": [
    {
     "name": "stdout",
     "output_type": "stream",
     "text": [
      "0.38287331917905165 0.21591095105581928\n"
     ]
    }
   ],
   "source": [
    "A = 541/(872+541)\n",
    "B = 1319 / (1319 +4790 )\n",
    "print(A, B)"
   ]
  },
  {
   "cell_type": "code",
   "execution_count": 29,
   "id": "a4872dd0",
   "metadata": {},
   "outputs": [
    {
     "data": {
      "text/plain": [
       "1.77"
      ]
     },
     "execution_count": 29,
     "metadata": {},
     "output_type": "execute_result"
    }
   ],
   "source": [
    "round(A/B, 2)"
   ]
  },
  {
   "cell_type": "code",
   "execution_count": 85,
   "id": "b22360fc",
   "metadata": {},
   "outputs": [
    {
     "data": {
      "text/plain": [
       "0.0    0.617127\n",
       "1.0    0.382873\n",
       "Name: target, dtype: float64"
      ]
     },
     "execution_count": 85,
     "metadata": {},
     "output_type": "execute_result"
    }
   ],
   "source": [
    "df1a[\"target\"].value_counts(normalize=True)"
   ]
  },
  {
   "cell_type": "code",
   "execution_count": 86,
   "id": "fe8b75a5",
   "metadata": {
    "scrolled": true
   },
   "outputs": [
    {
     "data": {
      "text/plain": [
       "0.0    0.784089\n",
       "1.0    0.215911\n",
       "Name: target, dtype: float64"
      ]
     },
     "execution_count": 86,
     "metadata": {},
     "output_type": "execute_result"
    }
   ],
   "source": [
    "df1b[\"target\"].value_counts(normalize=True)"
   ]
  },
  {
   "cell_type": "code",
   "execution_count": 87,
   "id": "71c6bc0c",
   "metadata": {},
   "outputs": [
    {
     "data": {
      "text/plain": [
       "relevant_experience\n",
       "Has relevant experience    0.215911\n",
       "No relevant experience     0.382873\n",
       "Name: target, dtype: float64"
      ]
     },
     "execution_count": 87,
     "metadata": {},
     "output_type": "execute_result"
    }
   ],
   "source": [
    "df_base.groupby(\"relevant_experience\")[\"target\"].mean()"
   ]
  },
  {
   "cell_type": "markdown",
   "id": "85c65876",
   "metadata": {},
   "source": [
    "# Q2"
   ]
  },
  {
   "cell_type": "code",
   "execution_count": 31,
   "id": "6914e4c3",
   "metadata": {},
   "outputs": [],
   "source": [
    "df2 = df_base.copy()"
   ]
  },
  {
   "cell_type": "code",
   "execution_count": 33,
   "id": "8344d440",
   "metadata": {},
   "outputs": [
    {
     "data": {
      "text/plain": [
       "Index(['enrollee_id', 'city_development_index', 'gender',\n",
       "       'relevant_experience', 'enrolled_university', 'education_level',\n",
       "       'major_discipline', 'experience', 'last_new_job', 'training_hours',\n",
       "       'target', 'Xgrp'],\n",
       "      dtype='object')"
      ]
     },
     "execution_count": 33,
     "metadata": {},
     "output_type": "execute_result"
    }
   ],
   "source": [
    "df2.columns"
   ]
  },
  {
   "cell_type": "code",
   "execution_count": 34,
   "id": "8b2c8972",
   "metadata": {},
   "outputs": [],
   "source": [
    "df2d = pd.get_dummies(df2, columns=[\"gender\",\"relevant_experience\",\"enrolled_university\",\"education_level\",\"major_discipline\"])"
   ]
  },
  {
   "cell_type": "code",
   "execution_count": 36,
   "id": "e6af937b",
   "metadata": {},
   "outputs": [
    {
     "data": {
      "text/plain": [
       "Index(['enrollee_id', 'city_development_index', 'experience', 'last_new_job',\n",
       "       'training_hours', 'target', 'Xgrp', 'gender_Female', 'gender_Male',\n",
       "       'gender_Other', 'relevant_experience_Has relevant experience',\n",
       "       'relevant_experience_No relevant experience',\n",
       "       'enrolled_university_Full time course',\n",
       "       'enrolled_university_Part time course',\n",
       "       'enrolled_university_no_enrollment', 'education_level_Graduate',\n",
       "       'education_level_Masters', 'education_level_Phd',\n",
       "       'major_discipline_Arts', 'major_discipline_Business Degree',\n",
       "       'major_discipline_Humanities', 'major_discipline_No Major',\n",
       "       'major_discipline_Other', 'major_discipline_STEM'],\n",
       "      dtype='object')"
      ]
     },
     "execution_count": 36,
     "metadata": {},
     "output_type": "execute_result"
    }
   ],
   "source": [
    "df2d.columns"
   ]
  },
  {
   "cell_type": "code",
   "execution_count": 37,
   "id": "bc728bd6",
   "metadata": {},
   "outputs": [],
   "source": [
    "df2dd = df2d.drop(columns=[\"gender_Other\",\"relevant_experience_No relevant experience\",\n",
    "                          \"enrolled_university_no_enrollment\",\"education_level_Phd\",\"major_discipline_STEM\"])"
   ]
  },
  {
   "cell_type": "code",
   "execution_count": 40,
   "id": "481d64e8",
   "metadata": {},
   "outputs": [
    {
     "data": {
      "text/plain": [
       "Index(['enrollee_id', 'city_development_index', 'experience', 'last_new_job',\n",
       "       'training_hours', 'target', 'Xgrp', 'gender_Female', 'gender_Male',\n",
       "       'relevant_experience_Has relevant experience',\n",
       "       'enrolled_university_Full time course',\n",
       "       'enrolled_university_Part time course', 'education_level_Graduate',\n",
       "       'education_level_Masters', 'major_discipline_Arts',\n",
       "       'major_discipline_Business Degree', 'major_discipline_Humanities',\n",
       "       'major_discipline_No Major', 'major_discipline_Other'],\n",
       "      dtype='object')"
      ]
     },
     "execution_count": 40,
     "metadata": {},
     "output_type": "execute_result"
    }
   ],
   "source": [
    "df2dd.columns"
   ]
  },
  {
   "cell_type": "code",
   "execution_count": 41,
   "id": "502698f9",
   "metadata": {},
   "outputs": [],
   "source": [
    "job2 = df2dd[[\"city_development_index\",\"experience\",\"last_new_job\",\"training_hours\",\n",
    "              'gender_Female', 'gender_Male',\n",
    "       'relevant_experience_Has relevant experience',\n",
    "       'enrolled_university_Full time course',\n",
    "       'enrolled_university_Part time course', 'education_level_Graduate',\n",
    "       'education_level_Masters', 'major_discipline_Arts',\n",
    "       'major_discipline_Business Degree', 'major_discipline_Humanities',\n",
    "       'major_discipline_No Major', 'major_discipline_Other','target', 'Xgrp']]"
   ]
  },
  {
   "cell_type": "code",
   "execution_count": 42,
   "id": "180e9678",
   "metadata": {},
   "outputs": [
    {
     "data": {
      "text/plain": [
       "Index(['city_development_index', 'experience', 'last_new_job',\n",
       "       'training_hours', 'gender_Female', 'gender_Male',\n",
       "       'relevant_experience_Has relevant experience',\n",
       "       'enrolled_university_Full time course',\n",
       "       'enrolled_university_Part time course', 'education_level_Graduate',\n",
       "       'education_level_Masters', 'major_discipline_Arts',\n",
       "       'major_discipline_Business Degree', 'major_discipline_Humanities',\n",
       "       'major_discipline_No Major', 'major_discipline_Other', 'target',\n",
       "       'Xgrp'],\n",
       "      dtype='object')"
      ]
     },
     "execution_count": 42,
     "metadata": {},
     "output_type": "execute_result"
    }
   ],
   "source": [
    "job2.columns"
   ]
  },
  {
   "cell_type": "code",
   "execution_count": 43,
   "id": "a9b07a3d",
   "metadata": {},
   "outputs": [],
   "source": [
    "indep_l = ['city_development_index', 'experience', 'last_new_job',\n",
    "       'training_hours', 'gender_Female', 'gender_Male',\n",
    "       'relevant_experience_Has relevant experience',\n",
    "       'enrolled_university_Full time course',\n",
    "       'enrolled_university_Part time course', 'education_level_Graduate',\n",
    "       'education_level_Masters', 'major_discipline_Arts',\n",
    "       'major_discipline_Business Degree', 'major_discipline_Humanities',\n",
    "       'major_discipline_No Major', 'major_discipline_Other']\n",
    "\n",
    "dep_l = \"target\""
   ]
  },
  {
   "cell_type": "code",
   "execution_count": 88,
   "id": "1f078a2c",
   "metadata": {},
   "outputs": [],
   "source": [
    "model = LogisticRegression(C=100000, max_iter=1000, solver='liblinear', random_state=123).fit(X= job2[indep_l], y = job2[dep_l])"
   ]
  },
  {
   "cell_type": "code",
   "execution_count": 92,
   "id": "1cca0545",
   "metadata": {},
   "outputs": [
    {
     "data": {
      "text/plain": [
       "array([[-6.13150412e+00, -2.81691230e-02,  9.57803375e-02,\n",
       "        -9.23704557e-04, -1.51500286e-01, -1.12275190e-01,\n",
       "        -7.65620657e-01,  5.15864255e-01, -2.76402260e-01,\n",
       "         3.53035498e-01,  4.83728703e-02,  3.10439212e-01,\n",
       "         1.23016826e-01,  2.65788411e-01,  4.22318992e-01,\n",
       "        -4.34692489e-01]])"
      ]
     },
     "execution_count": 92,
     "metadata": {},
     "output_type": "execute_result"
    }
   ],
   "source": [
    "model.coef_"
   ]
  },
  {
   "cell_type": "code",
   "execution_count": 93,
   "id": "3a5c1d4c",
   "metadata": {},
   "outputs": [
    {
     "data": {
      "text/plain": [
       "1.6750855768802067"
      ]
     },
     "execution_count": 93,
     "metadata": {},
     "output_type": "execute_result"
    }
   ],
   "source": [
    "np.exp(model.coef_).max()"
   ]
  },
  {
   "cell_type": "code",
   "execution_count": 82,
   "id": "eaa80347",
   "metadata": {},
   "outputs": [
    {
     "name": "stdout",
     "output_type": "stream",
     "text": [
      "Optimization terminated successfully.\n",
      "         Current function value: 0.487791\n",
      "         Iterations 6\n"
     ]
    }
   ],
   "source": [
    "import pandas as pd\n",
    "from statsmodels.api import Logit\n",
    "\n",
    "model = Logit(exog = job2[indep_l], endog = job2[dep_l], data = job2).fit()"
   ]
  },
  {
   "cell_type": "code",
   "execution_count": 83,
   "id": "afd3d925",
   "metadata": {
    "scrolled": true
   },
   "outputs": [
    {
     "data": {
      "text/html": [
       "<table class=\"simpletable\">\n",
       "<caption>Logit Regression Results</caption>\n",
       "<tr>\n",
       "  <th>Dep. Variable:</th>        <td>target</td>      <th>  No. Observations:  </th>   <td>  7522</td>  \n",
       "</tr>\n",
       "<tr>\n",
       "  <th>Model:</th>                 <td>Logit</td>      <th>  Df Residuals:      </th>   <td>  7506</td>  \n",
       "</tr>\n",
       "<tr>\n",
       "  <th>Method:</th>                 <td>MLE</td>       <th>  Df Model:          </th>   <td>    15</td>  \n",
       "</tr>\n",
       "<tr>\n",
       "  <th>Date:</th>            <td>Thu, 01 Jun 2023</td> <th>  Pseudo R-squ.:     </th>   <td>0.1279</td>  \n",
       "</tr>\n",
       "<tr>\n",
       "  <th>Time:</th>                <td>16:15:05</td>     <th>  Log-Likelihood:    </th>  <td> -3669.2</td> \n",
       "</tr>\n",
       "<tr>\n",
       "  <th>converged:</th>             <td>True</td>       <th>  LL-Null:           </th>  <td> -4207.2</td> \n",
       "</tr>\n",
       "<tr>\n",
       "  <th>Covariance Type:</th>     <td>nonrobust</td>    <th>  LLR p-value:       </th> <td>6.453e-220</td>\n",
       "</tr>\n",
       "</table>\n",
       "<table class=\"simpletable\">\n",
       "<tr>\n",
       "                       <td></td>                          <th>coef</th>     <th>std err</th>      <th>z</th>      <th>P>|z|</th>  <th>[0.025</th>    <th>0.975]</th>  \n",
       "</tr>\n",
       "<tr>\n",
       "  <th>city_development_index</th>                      <td>   -5.4749</td> <td>    0.224</td> <td>  -24.437</td> <td> 0.000</td> <td>   -5.914</td> <td>   -5.036</td>\n",
       "</tr>\n",
       "<tr>\n",
       "  <th>experience</th>                                  <td>   -0.0267</td> <td>    0.007</td> <td>   -3.826</td> <td> 0.000</td> <td>   -0.040</td> <td>   -0.013</td>\n",
       "</tr>\n",
       "<tr>\n",
       "  <th>last_new_job</th>                                <td>    0.1103</td> <td>    0.032</td> <td>    3.475</td> <td> 0.001</td> <td>    0.048</td> <td>    0.172</td>\n",
       "</tr>\n",
       "<tr>\n",
       "  <th>training_hours</th>                              <td>   -0.0007</td> <td>    0.000</td> <td>   -1.462</td> <td> 0.144</td> <td>   -0.002</td> <td>    0.000</td>\n",
       "</tr>\n",
       "<tr>\n",
       "  <th>gender_Female</th>                               <td>    1.5551</td> <td>    0.375</td> <td>    4.152</td> <td> 0.000</td> <td>    0.821</td> <td>    2.289</td>\n",
       "</tr>\n",
       "<tr>\n",
       "  <th>gender_Male</th>                                 <td>    1.5731</td> <td>    0.365</td> <td>    4.306</td> <td> 0.000</td> <td>    0.857</td> <td>    2.289</td>\n",
       "</tr>\n",
       "<tr>\n",
       "  <th>relevant_experience_Has relevant experience</th> <td>   -0.7187</td> <td>    0.075</td> <td>   -9.590</td> <td> 0.000</td> <td>   -0.866</td> <td>   -0.572</td>\n",
       "</tr>\n",
       "<tr>\n",
       "  <th>enrolled_university_Full time course</th>        <td>    0.5585</td> <td>    0.076</td> <td>    7.361</td> <td> 0.000</td> <td>    0.410</td> <td>    0.707</td>\n",
       "</tr>\n",
       "<tr>\n",
       "  <th>enrolled_university_Part time course</th>        <td>   -0.2491</td> <td>    0.118</td> <td>   -2.109</td> <td> 0.035</td> <td>   -0.481</td> <td>   -0.018</td>\n",
       "</tr>\n",
       "<tr>\n",
       "  <th>education_level_Graduate</th>                    <td>    2.3809</td> <td>    0.381</td> <td>    6.256</td> <td> 0.000</td> <td>    1.635</td> <td>    3.127</td>\n",
       "</tr>\n",
       "<tr>\n",
       "  <th>education_level_Masters</th>                     <td>    2.0724</td> <td>    0.384</td> <td>    5.395</td> <td> 0.000</td> <td>    1.320</td> <td>    2.825</td>\n",
       "</tr>\n",
       "<tr>\n",
       "  <th>major_discipline_Arts</th>                       <td>    0.2497</td> <td>    0.239</td> <td>    1.044</td> <td> 0.297</td> <td>   -0.219</td> <td>    0.719</td>\n",
       "</tr>\n",
       "<tr>\n",
       "  <th>major_discipline_Business Degree</th>            <td>    0.1115</td> <td>    0.221</td> <td>    0.505</td> <td> 0.613</td> <td>   -0.321</td> <td>    0.544</td>\n",
       "</tr>\n",
       "<tr>\n",
       "  <th>major_discipline_Humanities</th>                 <td>    0.2265</td> <td>    0.149</td> <td>    1.520</td> <td> 0.129</td> <td>   -0.066</td> <td>    0.518</td>\n",
       "</tr>\n",
       "<tr>\n",
       "  <th>major_discipline_No Major</th>                   <td>    0.4057</td> <td>    0.246</td> <td>    1.652</td> <td> 0.099</td> <td>   -0.076</td> <td>    0.887</td>\n",
       "</tr>\n",
       "<tr>\n",
       "  <th>major_discipline_Other</th>                      <td>   -0.4158</td> <td>    0.220</td> <td>   -1.887</td> <td> 0.059</td> <td>   -0.848</td> <td>    0.016</td>\n",
       "</tr>\n",
       "</table>"
      ],
      "text/plain": [
       "<class 'statsmodels.iolib.summary.Summary'>\n",
       "\"\"\"\n",
       "                           Logit Regression Results                           \n",
       "==============================================================================\n",
       "Dep. Variable:                 target   No. Observations:                 7522\n",
       "Model:                          Logit   Df Residuals:                     7506\n",
       "Method:                           MLE   Df Model:                           15\n",
       "Date:                Thu, 01 Jun 2023   Pseudo R-squ.:                  0.1279\n",
       "Time:                        16:15:05   Log-Likelihood:                -3669.2\n",
       "converged:                       True   LL-Null:                       -4207.2\n",
       "Covariance Type:            nonrobust   LLR p-value:                6.453e-220\n",
       "===============================================================================================================\n",
       "                                                  coef    std err          z      P>|z|      [0.025      0.975]\n",
       "---------------------------------------------------------------------------------------------------------------\n",
       "city_development_index                         -5.4749      0.224    -24.437      0.000      -5.914      -5.036\n",
       "experience                                     -0.0267      0.007     -3.826      0.000      -0.040      -0.013\n",
       "last_new_job                                    0.1103      0.032      3.475      0.001       0.048       0.172\n",
       "training_hours                                 -0.0007      0.000     -1.462      0.144      -0.002       0.000\n",
       "gender_Female                                   1.5551      0.375      4.152      0.000       0.821       2.289\n",
       "gender_Male                                     1.5731      0.365      4.306      0.000       0.857       2.289\n",
       "relevant_experience_Has relevant experience    -0.7187      0.075     -9.590      0.000      -0.866      -0.572\n",
       "enrolled_university_Full time course            0.5585      0.076      7.361      0.000       0.410       0.707\n",
       "enrolled_university_Part time course           -0.2491      0.118     -2.109      0.035      -0.481      -0.018\n",
       "education_level_Graduate                        2.3809      0.381      6.256      0.000       1.635       3.127\n",
       "education_level_Masters                         2.0724      0.384      5.395      0.000       1.320       2.825\n",
       "major_discipline_Arts                           0.2497      0.239      1.044      0.297      -0.219       0.719\n",
       "major_discipline_Business Degree                0.1115      0.221      0.505      0.613      -0.321       0.544\n",
       "major_discipline_Humanities                     0.2265      0.149      1.520      0.129      -0.066       0.518\n",
       "major_discipline_No Major                       0.4057      0.246      1.652      0.099      -0.076       0.887\n",
       "major_discipline_Other                         -0.4158      0.220     -1.887      0.059      -0.848       0.016\n",
       "===============================================================================================================\n",
       "\"\"\""
      ]
     },
     "execution_count": 83,
     "metadata": {},
     "output_type": "execute_result"
    }
   ],
   "source": [
    "model.summary()"
   ]
  },
  {
   "cell_type": "code",
   "execution_count": 84,
   "id": "77abf568",
   "metadata": {},
   "outputs": [
    {
     "data": {
      "text/plain": [
       "city_development_index                        -5.474888\n",
       "experience                                    -0.026701\n",
       "last_new_job                                   0.110258\n",
       "training_hours                                -0.000706\n",
       "gender_Female                                  1.555077\n",
       "gender_Male                                    1.573086\n",
       "relevant_experience_Has relevant experience   -0.718748\n",
       "enrolled_university_Full time course           0.558526\n",
       "enrolled_university_Part time course          -0.249100\n",
       "education_level_Graduate                       2.380947\n",
       "education_level_Masters                        2.072408\n",
       "major_discipline_Arts                          0.249691\n",
       "major_discipline_Business Degree               0.111522\n",
       "major_discipline_Humanities                    0.226474\n",
       "major_discipline_No Major                      0.405743\n",
       "major_discipline_Other                        -0.415833\n",
       "dtype: float64"
      ]
     },
     "execution_count": 84,
     "metadata": {},
     "output_type": "execute_result"
    }
   ],
   "source": [
    "model.params"
   ]
  },
  {
   "cell_type": "markdown",
   "id": "851ef32d",
   "metadata": {},
   "source": [
    "# !!!! odd ratio는 모르겠다 ㅜㅜ "
   ]
  },
  {
   "cell_type": "markdown",
   "id": "db425c85",
   "metadata": {},
   "source": [
    "# Q3"
   ]
  },
  {
   "cell_type": "code",
   "execution_count": 60,
   "id": "fbd34d74",
   "metadata": {},
   "outputs": [],
   "source": [
    "df3 = job2.copy()"
   ]
  },
  {
   "cell_type": "code",
   "execution_count": 62,
   "id": "d7240275",
   "metadata": {},
   "outputs": [
    {
     "data": {
      "text/plain": [
       "(4706, 2816)"
      ]
     },
     "execution_count": 62,
     "metadata": {},
     "output_type": "execute_result"
    }
   ],
   "source": [
    "train = df3.loc[(df3[\"Xgrp\"] == \"train\"), :]\n",
    "test = df3.loc[(df3[\"Xgrp\"] == \"test\"), :]\n",
    "len(train), len(test)"
   ]
  },
  {
   "cell_type": "code",
   "execution_count": 63,
   "id": "9907b1b2",
   "metadata": {},
   "outputs": [
    {
     "data": {
      "text/plain": [
       "18"
      ]
     },
     "execution_count": 63,
     "metadata": {},
     "output_type": "execute_result"
    }
   ],
   "source": [
    "len(train.columns)"
   ]
  },
  {
   "cell_type": "code",
   "execution_count": 64,
   "id": "1f612c97",
   "metadata": {},
   "outputs": [],
   "source": [
    "indep_l = ['city_development_index', 'experience', 'last_new_job',\n",
    "       'training_hours', 'gender_Female', 'gender_Male',\n",
    "       'relevant_experience_Has relevant experience',\n",
    "       'enrolled_university_Full time course',\n",
    "       'enrolled_university_Part time course', 'education_level_Graduate',\n",
    "       'education_level_Masters', 'major_discipline_Arts',\n",
    "       'major_discipline_Business Degree', 'major_discipline_Humanities',\n",
    "       'major_discipline_No Major', 'major_discipline_Other']\n",
    "\n",
    "dep_l = \"target\""
   ]
  },
  {
   "cell_type": "code",
   "execution_count": 65,
   "id": "e4db1bb9",
   "metadata": {},
   "outputs": [],
   "source": [
    "model = KNeighborsClassifier(n_neighbors=5).fit(X=train[indep_l], y = train[dep_l])"
   ]
  },
  {
   "cell_type": "code",
   "execution_count": 67,
   "id": "87ade956",
   "metadata": {},
   "outputs": [],
   "source": [
    "pred = model.predict(test[indep_l])"
   ]
  },
  {
   "cell_type": "code",
   "execution_count": 68,
   "id": "d2fc2265",
   "metadata": {},
   "outputs": [
    {
     "name": "stderr",
     "output_type": "stream",
     "text": [
      "C:\\Users\\younl\\AppData\\Local\\Temp/ipykernel_20864/1701815707.py:1: SettingWithCopyWarning: \n",
      "A value is trying to be set on a copy of a slice from a DataFrame.\n",
      "Try using .loc[row_indexer,col_indexer] = value instead\n",
      "\n",
      "See the caveats in the documentation: https://pandas.pydata.org/pandas-docs/stable/user_guide/indexing.html#returning-a-view-versus-a-copy\n",
      "  test[\"pred\"] = pred\n"
     ]
    }
   ],
   "source": [
    "test[\"pred\"] = pred\n",
    "result = test[[\"target\",\"pred\"]]"
   ]
  },
  {
   "cell_type": "code",
   "execution_count": 94,
   "id": "a47f58f0",
   "metadata": {},
   "outputs": [
    {
     "data": {
      "text/html": [
       "<div>\n",
       "<style scoped>\n",
       "    .dataframe tbody tr th:only-of-type {\n",
       "        vertical-align: middle;\n",
       "    }\n",
       "\n",
       "    .dataframe tbody tr th {\n",
       "        vertical-align: top;\n",
       "    }\n",
       "\n",
       "    .dataframe thead th {\n",
       "        text-align: right;\n",
       "    }\n",
       "</style>\n",
       "<table border=\"1\" class=\"dataframe\">\n",
       "  <thead>\n",
       "    <tr style=\"text-align: right;\">\n",
       "      <th>pred</th>\n",
       "      <th>0.0</th>\n",
       "      <th>1.0</th>\n",
       "    </tr>\n",
       "    <tr>\n",
       "      <th>target</th>\n",
       "      <th></th>\n",
       "      <th></th>\n",
       "    </tr>\n",
       "  </thead>\n",
       "  <tbody>\n",
       "    <tr>\n",
       "      <th>0.0</th>\n",
       "      <td>1897</td>\n",
       "      <td>195</td>\n",
       "    </tr>\n",
       "    <tr>\n",
       "      <th>1.0</th>\n",
       "      <td>616</td>\n",
       "      <td>108</td>\n",
       "    </tr>\n",
       "  </tbody>\n",
       "</table>\n",
       "</div>"
      ],
      "text/plain": [
       "pred     0.0  1.0\n",
       "target           \n",
       "0.0     1897  195\n",
       "1.0      616  108"
      ]
     },
     "execution_count": 94,
     "metadata": {},
     "output_type": "execute_result"
    }
   ],
   "source": [
    "pd.crosstab(result[\"target\"],result['pred'])"
   ]
  },
  {
   "cell_type": "code",
   "execution_count": 96,
   "id": "6ca9b02c",
   "metadata": {},
   "outputs": [
    {
     "data": {
      "text/plain": [
       "0.71"
      ]
     },
     "execution_count": 96,
     "metadata": {},
     "output_type": "execute_result"
    }
   ],
   "source": [
    "from sklearn.metrics import accuracy_score\n",
    "round(accuracy_score(y_true = result[\"target\"], y_pred = result[\"pred\"]),2)"
   ]
  },
  {
   "cell_type": "code",
   "execution_count": 69,
   "id": "2d10f261",
   "metadata": {},
   "outputs": [
    {
     "data": {
      "text/html": [
       "<div>\n",
       "<style scoped>\n",
       "    .dataframe tbody tr th:only-of-type {\n",
       "        vertical-align: middle;\n",
       "    }\n",
       "\n",
       "    .dataframe tbody tr th {\n",
       "        vertical-align: top;\n",
       "    }\n",
       "\n",
       "    .dataframe thead th {\n",
       "        text-align: right;\n",
       "    }\n",
       "</style>\n",
       "<table border=\"1\" class=\"dataframe\">\n",
       "  <thead>\n",
       "    <tr style=\"text-align: right;\">\n",
       "      <th></th>\n",
       "      <th>target</th>\n",
       "      <th>pred</th>\n",
       "    </tr>\n",
       "  </thead>\n",
       "  <tbody>\n",
       "    <tr>\n",
       "      <th>12001</th>\n",
       "      <td>0.0</td>\n",
       "      <td>0.0</td>\n",
       "    </tr>\n",
       "    <tr>\n",
       "      <th>12002</th>\n",
       "      <td>1.0</td>\n",
       "      <td>0.0</td>\n",
       "    </tr>\n",
       "    <tr>\n",
       "      <th>12003</th>\n",
       "      <td>0.0</td>\n",
       "      <td>0.0</td>\n",
       "    </tr>\n",
       "    <tr>\n",
       "      <th>12004</th>\n",
       "      <td>0.0</td>\n",
       "      <td>0.0</td>\n",
       "    </tr>\n",
       "    <tr>\n",
       "      <th>12008</th>\n",
       "      <td>0.0</td>\n",
       "      <td>0.0</td>\n",
       "    </tr>\n",
       "    <tr>\n",
       "      <th>...</th>\n",
       "      <td>...</td>\n",
       "      <td>...</td>\n",
       "    </tr>\n",
       "    <tr>\n",
       "      <th>19149</th>\n",
       "      <td>1.0</td>\n",
       "      <td>0.0</td>\n",
       "    </tr>\n",
       "    <tr>\n",
       "      <th>19150</th>\n",
       "      <td>0.0</td>\n",
       "      <td>0.0</td>\n",
       "    </tr>\n",
       "    <tr>\n",
       "      <th>19152</th>\n",
       "      <td>0.0</td>\n",
       "      <td>0.0</td>\n",
       "    </tr>\n",
       "    <tr>\n",
       "      <th>19153</th>\n",
       "      <td>1.0</td>\n",
       "      <td>0.0</td>\n",
       "    </tr>\n",
       "    <tr>\n",
       "      <th>19154</th>\n",
       "      <td>1.0</td>\n",
       "      <td>0.0</td>\n",
       "    </tr>\n",
       "  </tbody>\n",
       "</table>\n",
       "<p>2816 rows × 2 columns</p>\n",
       "</div>"
      ],
      "text/plain": [
       "       target  pred\n",
       "12001     0.0   0.0\n",
       "12002     1.0   0.0\n",
       "12003     0.0   0.0\n",
       "12004     0.0   0.0\n",
       "12008     0.0   0.0\n",
       "...       ...   ...\n",
       "19149     1.0   0.0\n",
       "19150     0.0   0.0\n",
       "19152     0.0   0.0\n",
       "19153     1.0   0.0\n",
       "19154     1.0   0.0\n",
       "\n",
       "[2816 rows x 2 columns]"
      ]
     },
     "execution_count": 69,
     "metadata": {},
     "output_type": "execute_result"
    }
   ],
   "source": [
    "result"
   ]
  },
  {
   "cell_type": "code",
   "execution_count": 70,
   "id": "2722b0af",
   "metadata": {},
   "outputs": [
    {
     "name": "stderr",
     "output_type": "stream",
     "text": [
      "C:\\Users\\younl\\AppData\\Local\\Temp/ipykernel_20864/800138717.py:1: SettingWithCopyWarning: \n",
      "A value is trying to be set on a copy of a slice from a DataFrame.\n",
      "Try using .loc[row_indexer,col_indexer] = value instead\n",
      "\n",
      "See the caveats in the documentation: https://pandas.pydata.org/pandas-docs/stable/user_guide/indexing.html#returning-a-view-versus-a-copy\n",
      "  result[\"TP\"] = ((result[\"target\"] == result[\"pred\"]) & (result[\"pred\"]==1))+0\n",
      "C:\\Users\\younl\\AppData\\Local\\Temp/ipykernel_20864/800138717.py:2: SettingWithCopyWarning: \n",
      "A value is trying to be set on a copy of a slice from a DataFrame.\n",
      "Try using .loc[row_indexer,col_indexer] = value instead\n",
      "\n",
      "See the caveats in the documentation: https://pandas.pydata.org/pandas-docs/stable/user_guide/indexing.html#returning-a-view-versus-a-copy\n",
      "  result[\"TN\"] = ((result[\"target\"] == result[\"pred\"]) & (result[\"pred\"]==0))+0\n"
     ]
    }
   ],
   "source": [
    "result[\"TP\"] = ((result[\"target\"] == result[\"pred\"]) & (result[\"pred\"]==1))+0\n",
    "result[\"TN\"] = ((result[\"target\"] == result[\"pred\"]) & (result[\"pred\"]==0))+0"
   ]
  },
  {
   "cell_type": "code",
   "execution_count": 71,
   "id": "48ef2683",
   "metadata": {},
   "outputs": [
    {
     "data": {
      "text/html": [
       "<div>\n",
       "<style scoped>\n",
       "    .dataframe tbody tr th:only-of-type {\n",
       "        vertical-align: middle;\n",
       "    }\n",
       "\n",
       "    .dataframe tbody tr th {\n",
       "        vertical-align: top;\n",
       "    }\n",
       "\n",
       "    .dataframe thead th {\n",
       "        text-align: right;\n",
       "    }\n",
       "</style>\n",
       "<table border=\"1\" class=\"dataframe\">\n",
       "  <thead>\n",
       "    <tr style=\"text-align: right;\">\n",
       "      <th></th>\n",
       "      <th>target</th>\n",
       "      <th>pred</th>\n",
       "      <th>TP</th>\n",
       "      <th>TN</th>\n",
       "    </tr>\n",
       "  </thead>\n",
       "  <tbody>\n",
       "    <tr>\n",
       "      <th>12001</th>\n",
       "      <td>0.0</td>\n",
       "      <td>0.0</td>\n",
       "      <td>0</td>\n",
       "      <td>1</td>\n",
       "    </tr>\n",
       "    <tr>\n",
       "      <th>12002</th>\n",
       "      <td>1.0</td>\n",
       "      <td>0.0</td>\n",
       "      <td>0</td>\n",
       "      <td>0</td>\n",
       "    </tr>\n",
       "    <tr>\n",
       "      <th>12003</th>\n",
       "      <td>0.0</td>\n",
       "      <td>0.0</td>\n",
       "      <td>0</td>\n",
       "      <td>1</td>\n",
       "    </tr>\n",
       "    <tr>\n",
       "      <th>12004</th>\n",
       "      <td>0.0</td>\n",
       "      <td>0.0</td>\n",
       "      <td>0</td>\n",
       "      <td>1</td>\n",
       "    </tr>\n",
       "    <tr>\n",
       "      <th>12008</th>\n",
       "      <td>0.0</td>\n",
       "      <td>0.0</td>\n",
       "      <td>0</td>\n",
       "      <td>1</td>\n",
       "    </tr>\n",
       "  </tbody>\n",
       "</table>\n",
       "</div>"
      ],
      "text/plain": [
       "       target  pred  TP  TN\n",
       "12001     0.0   0.0   0   1\n",
       "12002     1.0   0.0   0   0\n",
       "12003     0.0   0.0   0   1\n",
       "12004     0.0   0.0   0   1\n",
       "12008     0.0   0.0   0   1"
      ]
     },
     "execution_count": 71,
     "metadata": {},
     "output_type": "execute_result"
    }
   ],
   "source": [
    "result.head()"
   ]
  },
  {
   "cell_type": "code",
   "execution_count": 76,
   "id": "3cb40e85",
   "metadata": {},
   "outputs": [
    {
     "data": {
      "text/plain": [
       "0    2708\n",
       "1     108\n",
       "Name: TP, dtype: int64"
      ]
     },
     "execution_count": 76,
     "metadata": {},
     "output_type": "execute_result"
    }
   ],
   "source": [
    "result[\"TP\"].value_counts()"
   ]
  },
  {
   "cell_type": "code",
   "execution_count": 77,
   "id": "33b6e81a",
   "metadata": {},
   "outputs": [
    {
     "data": {
      "text/plain": [
       "1    1897\n",
       "0     919\n",
       "Name: TN, dtype: int64"
      ]
     },
     "execution_count": 77,
     "metadata": {},
     "output_type": "execute_result"
    }
   ],
   "source": [
    "result[\"TN\"].value_counts()"
   ]
  },
  {
   "cell_type": "code",
   "execution_count": 80,
   "id": "955c7e6a",
   "metadata": {},
   "outputs": [
    {
     "data": {
      "text/plain": [
       "0.71"
      ]
     },
     "execution_count": 80,
     "metadata": {},
     "output_type": "execute_result"
    }
   ],
   "source": [
    "round((108 + 1897 )/result.shape[0], 2)"
   ]
  }
 ],
 "metadata": {
  "kernelspec": {
   "display_name": "Python 3 (ipykernel)",
   "language": "python",
   "name": "python3"
  },
  "language_info": {
   "codemirror_mode": {
    "name": "ipython",
    "version": 3
   },
   "file_extension": ".py",
   "mimetype": "text/x-python",
   "name": "python",
   "nbconvert_exporter": "python",
   "pygments_lexer": "ipython3",
   "version": "3.9.7"
  }
 },
 "nbformat": 4,
 "nbformat_minor": 5
}
